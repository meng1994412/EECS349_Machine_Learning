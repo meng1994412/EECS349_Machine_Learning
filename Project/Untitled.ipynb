{
 "cells": [
  {
   "cell_type": "code",
   "execution_count": 1,
   "metadata": {},
   "outputs": [],
   "source": [
    "import pandas as pd\n",
    "import numpy as np\n",
    "import matplotlib.pyplot as plt\n",
    "from pandas import Series, DataFrame, Panel\n",
    "from sklearn import preprocessing\n",
    "pd.set_option('display.max_rows',15)"
   ]
  },
  {
   "cell_type": "code",
   "execution_count": 6,
   "metadata": {},
   "outputs": [],
   "source": [
    "bitcoin = pd.read_csv ('/home/sunny/NWU/EECS349/Project/bitcoin_price.csv', parse_dates = True, index_col = [0])"
   ]
  },
  {
   "cell_type": "code",
   "execution_count": 7,
   "metadata": {},
   "outputs": [],
   "source": [
    "bitcoin = bitcoin.sort_index(ascending = True)"
   ]
  },
  {
   "cell_type": "code",
   "execution_count": 8,
   "metadata": {},
   "outputs": [
    {
     "data": {
      "text/html": [
       "<div>\n",
       "<style scoped>\n",
       "    .dataframe tbody tr th:only-of-type {\n",
       "        vertical-align: middle;\n",
       "    }\n",
       "\n",
       "    .dataframe tbody tr th {\n",
       "        vertical-align: top;\n",
       "    }\n",
       "\n",
       "    .dataframe thead th {\n",
       "        text-align: right;\n",
       "    }\n",
       "</style>\n",
       "<table border=\"1\" class=\"dataframe\">\n",
       "  <thead>\n",
       "    <tr style=\"text-align: right;\">\n",
       "      <th></th>\n",
       "      <th>Open</th>\n",
       "      <th>High</th>\n",
       "      <th>Low</th>\n",
       "      <th>Close</th>\n",
       "      <th>Volume</th>\n",
       "      <th>Market Cap</th>\n",
       "    </tr>\n",
       "    <tr>\n",
       "      <th>Date</th>\n",
       "      <th></th>\n",
       "      <th></th>\n",
       "      <th></th>\n",
       "      <th></th>\n",
       "      <th></th>\n",
       "      <th></th>\n",
       "    </tr>\n",
       "  </thead>\n",
       "  <tbody>\n",
       "    <tr>\n",
       "      <th>2013-04-28</th>\n",
       "      <td>135.30</td>\n",
       "      <td>135.98</td>\n",
       "      <td>132.10</td>\n",
       "      <td>134.21</td>\n",
       "      <td>-</td>\n",
       "      <td>1,500,520,000</td>\n",
       "    </tr>\n",
       "    <tr>\n",
       "      <th>2013-04-29</th>\n",
       "      <td>134.44</td>\n",
       "      <td>147.49</td>\n",
       "      <td>134.00</td>\n",
       "      <td>144.54</td>\n",
       "      <td>-</td>\n",
       "      <td>1,491,160,000</td>\n",
       "    </tr>\n",
       "    <tr>\n",
       "      <th>2013-04-30</th>\n",
       "      <td>144.00</td>\n",
       "      <td>146.93</td>\n",
       "      <td>134.05</td>\n",
       "      <td>139.00</td>\n",
       "      <td>-</td>\n",
       "      <td>1,597,780,000</td>\n",
       "    </tr>\n",
       "    <tr>\n",
       "      <th>2013-05-01</th>\n",
       "      <td>139.00</td>\n",
       "      <td>139.89</td>\n",
       "      <td>107.72</td>\n",
       "      <td>116.99</td>\n",
       "      <td>-</td>\n",
       "      <td>1,542,820,000</td>\n",
       "    </tr>\n",
       "    <tr>\n",
       "      <th>2013-05-02</th>\n",
       "      <td>116.38</td>\n",
       "      <td>125.60</td>\n",
       "      <td>92.28</td>\n",
       "      <td>105.21</td>\n",
       "      <td>-</td>\n",
       "      <td>1,292,190,000</td>\n",
       "    </tr>\n",
       "    <tr>\n",
       "      <th>2013-05-03</th>\n",
       "      <td>106.25</td>\n",
       "      <td>108.13</td>\n",
       "      <td>79.10</td>\n",
       "      <td>97.75</td>\n",
       "      <td>-</td>\n",
       "      <td>1,180,070,000</td>\n",
       "    </tr>\n",
       "    <tr>\n",
       "      <th>2013-05-04</th>\n",
       "      <td>98.10</td>\n",
       "      <td>115.00</td>\n",
       "      <td>92.50</td>\n",
       "      <td>112.50</td>\n",
       "      <td>-</td>\n",
       "      <td>1,089,890,000</td>\n",
       "    </tr>\n",
       "    <tr>\n",
       "      <th>...</th>\n",
       "      <td>...</td>\n",
       "      <td>...</td>\n",
       "      <td>...</td>\n",
       "      <td>...</td>\n",
       "      <td>...</td>\n",
       "      <td>...</td>\n",
       "    </tr>\n",
       "    <tr>\n",
       "      <th>2018-02-14</th>\n",
       "      <td>8599.92</td>\n",
       "      <td>9518.54</td>\n",
       "      <td>8599.92</td>\n",
       "      <td>9494.63</td>\n",
       "      <td>7,909,820,000</td>\n",
       "      <td>145,023,000,000</td>\n",
       "    </tr>\n",
       "    <tr>\n",
       "      <th>2018-02-15</th>\n",
       "      <td>9488.32</td>\n",
       "      <td>10234.80</td>\n",
       "      <td>9395.58</td>\n",
       "      <td>10166.40</td>\n",
       "      <td>9,062,540,000</td>\n",
       "      <td>160,025,000,000</td>\n",
       "    </tr>\n",
       "    <tr>\n",
       "      <th>2018-02-16</th>\n",
       "      <td>10135.70</td>\n",
       "      <td>10324.10</td>\n",
       "      <td>9824.82</td>\n",
       "      <td>10233.90</td>\n",
       "      <td>7,296,160,000</td>\n",
       "      <td>170,960,000,000</td>\n",
       "    </tr>\n",
       "    <tr>\n",
       "      <th>2018-02-17</th>\n",
       "      <td>10207.50</td>\n",
       "      <td>11139.50</td>\n",
       "      <td>10149.40</td>\n",
       "      <td>11112.70</td>\n",
       "      <td>8,660,880,000</td>\n",
       "      <td>172,191,000,000</td>\n",
       "    </tr>\n",
       "    <tr>\n",
       "      <th>2018-02-18</th>\n",
       "      <td>11123.40</td>\n",
       "      <td>11349.80</td>\n",
       "      <td>10326.00</td>\n",
       "      <td>10551.80</td>\n",
       "      <td>8,744,010,000</td>\n",
       "      <td>187,663,000,000</td>\n",
       "    </tr>\n",
       "    <tr>\n",
       "      <th>2018-02-19</th>\n",
       "      <td>10552.60</td>\n",
       "      <td>11273.80</td>\n",
       "      <td>10513.20</td>\n",
       "      <td>11225.30</td>\n",
       "      <td>7,652,090,000</td>\n",
       "      <td>178,055,000,000</td>\n",
       "    </tr>\n",
       "    <tr>\n",
       "      <th>2018-02-20</th>\n",
       "      <td>11231.80</td>\n",
       "      <td>11958.50</td>\n",
       "      <td>11231.80</td>\n",
       "      <td>11403.70</td>\n",
       "      <td>9,926,540,000</td>\n",
       "      <td>189,536,000,000</td>\n",
       "    </tr>\n",
       "  </tbody>\n",
       "</table>\n",
       "<p>1760 rows × 6 columns</p>\n",
       "</div>"
      ],
      "text/plain": [
       "                Open      High       Low     Close         Volume  \\\n",
       "Date                                                                \n",
       "2013-04-28    135.30    135.98    132.10    134.21              -   \n",
       "2013-04-29    134.44    147.49    134.00    144.54              -   \n",
       "2013-04-30    144.00    146.93    134.05    139.00              -   \n",
       "2013-05-01    139.00    139.89    107.72    116.99              -   \n",
       "2013-05-02    116.38    125.60     92.28    105.21              -   \n",
       "2013-05-03    106.25    108.13     79.10     97.75              -   \n",
       "2013-05-04     98.10    115.00     92.50    112.50              -   \n",
       "...              ...       ...       ...       ...            ...   \n",
       "2018-02-14   8599.92   9518.54   8599.92   9494.63  7,909,820,000   \n",
       "2018-02-15   9488.32  10234.80   9395.58  10166.40  9,062,540,000   \n",
       "2018-02-16  10135.70  10324.10   9824.82  10233.90  7,296,160,000   \n",
       "2018-02-17  10207.50  11139.50  10149.40  11112.70  8,660,880,000   \n",
       "2018-02-18  11123.40  11349.80  10326.00  10551.80  8,744,010,000   \n",
       "2018-02-19  10552.60  11273.80  10513.20  11225.30  7,652,090,000   \n",
       "2018-02-20  11231.80  11958.50  11231.80  11403.70  9,926,540,000   \n",
       "\n",
       "                 Market Cap  \n",
       "Date                         \n",
       "2013-04-28    1,500,520,000  \n",
       "2013-04-29    1,491,160,000  \n",
       "2013-04-30    1,597,780,000  \n",
       "2013-05-01    1,542,820,000  \n",
       "2013-05-02    1,292,190,000  \n",
       "2013-05-03    1,180,070,000  \n",
       "2013-05-04    1,089,890,000  \n",
       "...                     ...  \n",
       "2018-02-14  145,023,000,000  \n",
       "2018-02-15  160,025,000,000  \n",
       "2018-02-16  170,960,000,000  \n",
       "2018-02-17  172,191,000,000  \n",
       "2018-02-18  187,663,000,000  \n",
       "2018-02-19  178,055,000,000  \n",
       "2018-02-20  189,536,000,000  \n",
       "\n",
       "[1760 rows x 6 columns]"
      ]
     },
     "execution_count": 8,
     "metadata": {},
     "output_type": "execute_result"
    }
   ],
   "source": [
    "bitcoin"
   ]
  },
  {
   "cell_type": "code",
   "execution_count": 25,
   "metadata": {},
   "outputs": [
    {
     "data": {
      "text/plain": [
       "Date\n",
       "2013-04-28                -\n",
       "2013-04-29                -\n",
       "2013-04-30                -\n",
       "2013-05-01                -\n",
       "2013-05-02                -\n",
       "2013-05-03                -\n",
       "2013-05-04                -\n",
       "                  ...      \n",
       "2018-02-14    7,909,820,000\n",
       "2018-02-15    9,062,540,000\n",
       "2018-02-16    7,296,160,000\n",
       "2018-02-17    8,660,880,000\n",
       "2018-02-18    8,744,010,000\n",
       "2018-02-19    7,652,090,000\n",
       "2018-02-20    9,926,540,000\n",
       "Name: Volume, Length: 1760, dtype: object"
      ]
     },
     "execution_count": 25,
     "metadata": {},
     "output_type": "execute_result"
    }
   ],
   "source": [
    "bitVol = bitcoin['Volume']\n",
    "bitVol"
   ]
  },
  {
   "cell_type": "code",
   "execution_count": 26,
   "metadata": {},
   "outputs": [],
   "source": [
    "mean = 25801388.321167883"
   ]
  },
  {
   "cell_type": "code",
   "execution_count": 27,
   "metadata": {},
   "outputs": [
    {
     "data": {
      "text/plain": [
       "Date\n",
       "2013-04-28    2.580139e+07\n",
       "2013-04-29    2.580139e+07\n",
       "2013-04-30    2.580139e+07\n",
       "2013-05-01    2.580139e+07\n",
       "2013-05-02    2.580139e+07\n",
       "2013-05-03    2.580139e+07\n",
       "2013-05-04    2.580139e+07\n",
       "                  ...     \n",
       "2013-12-20    2.580139e+07\n",
       "2013-12-21    2.580139e+07\n",
       "2013-12-22    2.580139e+07\n",
       "2013-12-23    2.580139e+07\n",
       "2013-12-24    2.580139e+07\n",
       "2013-12-25    2.580139e+07\n",
       "2013-12-26    2.580139e+07\n",
       "Name: Volume, Length: 243, dtype: float64"
      ]
     },
     "execution_count": 27,
     "metadata": {},
     "output_type": "execute_result"
    }
   ],
   "source": [
    "bitVol_2 = bitVol[bitVol == \"-\"]\n",
    "bitVol_2 = bitVol_2.apply(lambda x: float(x.replace('-', '%f' % (mean))))\n",
    "bitVolNorm_2 = np.log(bitVol_2)\n",
    "bitVol_2"
   ]
  },
  {
   "cell_type": "code",
   "execution_count": 28,
   "metadata": {},
   "outputs": [
    {
     "data": {
      "text/plain": [
       "Date\n",
       "2013-04-28                -\n",
       "2013-04-29                -\n",
       "2013-04-30                -\n",
       "2013-05-01                -\n",
       "2013-05-02                -\n",
       "2013-05-03                -\n",
       "2013-05-04                -\n",
       "                  ...      \n",
       "2018-02-14    7,909,820,000\n",
       "2018-02-15    9,062,540,000\n",
       "2018-02-16    7,296,160,000\n",
       "2018-02-17    8,660,880,000\n",
       "2018-02-18    8,744,010,000\n",
       "2018-02-19    7,652,090,000\n",
       "2018-02-20    9,926,540,000\n",
       "Name: Volume, Length: 1760, dtype: object"
      ]
     },
     "execution_count": 28,
     "metadata": {},
     "output_type": "execute_result"
    }
   ],
   "source": [
    "# bitVol = pd.DataFrame(bitVol)\n",
    "bitVol"
   ]
  },
  {
   "cell_type": "code",
   "execution_count": 46,
   "metadata": {},
   "outputs": [],
   "source": [
    "bitVol.update(bitVol_2)"
   ]
  },
  {
   "cell_type": "code",
   "execution_count": 44,
   "metadata": {},
   "outputs": [],
   "source": []
  },
  {
   "cell_type": "code",
   "execution_count": 47,
   "metadata": {},
   "outputs": [
    {
     "data": {
      "text/plain": [
       "Date\n",
       "2013-04-28      2.58014e+07\n",
       "2013-04-29      2.58014e+07\n",
       "2013-04-30      2.58014e+07\n",
       "2013-05-01      2.58014e+07\n",
       "2013-05-02      2.58014e+07\n",
       "2013-05-03      2.58014e+07\n",
       "2013-05-04      2.58014e+07\n",
       "                  ...      \n",
       "2018-02-14    7,909,820,000\n",
       "2018-02-15    9,062,540,000\n",
       "2018-02-16    7,296,160,000\n",
       "2018-02-17    8,660,880,000\n",
       "2018-02-18    8,744,010,000\n",
       "2018-02-19    7,652,090,000\n",
       "2018-02-20    9,926,540,000\n",
       "Name: Volume, Length: 1760, dtype: object"
      ]
     },
     "execution_count": 47,
     "metadata": {},
     "output_type": "execute_result"
    }
   ],
   "source": [
    "bitVol"
   ]
  },
  {
   "cell_type": "code",
   "execution_count": 1,
   "metadata": {},
   "outputs": [
    {
     "name": "stderr",
     "output_type": "stream",
     "text": [
      "/home/sunny/.conda/envs/py3env/lib/python3.6/site-packages/h5py/__init__.py:36: FutureWarning: Conversion of the second argument of issubdtype from `float` to `np.floating` is deprecated. In future, it will be treated as `np.float64 == np.dtype(float).type`.\n",
      "  from ._conv import register_converters as _register_converters\n"
     ]
    }
   ],
   "source": [
    "import tensorflow as tf"
   ]
  },
  {
   "cell_type": "code",
   "execution_count": 2,
   "metadata": {},
   "outputs": [
    {
     "name": "stdout",
     "output_type": "stream",
     "text": [
      "9\n"
     ]
    }
   ],
   "source": [
    "# define a and b as placeholder\n",
    "a = tf.placeholder(dtype = tf.int8, name = \"a\")\n",
    "b = tf.placeholder(dtype = tf.int8, name = \"b\")\n",
    "\n",
    "# define an addition\n",
    "c = tf.add(a, b, name = \"c\")\n",
    "\n",
    "# initialize the graph\n",
    "sess = tf.Session()\n",
    "\n",
    "# run the graph\n",
    "result = sess.run(c, feed_dict = {a : 5, b : 4})\n",
    "print(result)\n",
    "\n",
    "# create an event file\n",
    "writer = tf.summary.FileWriter(\"./logs\", sess.graph)\n",
    "\n",
    "sess.close()"
   ]
  },
  {
   "cell_type": "code",
   "execution_count": null,
   "metadata": {},
   "outputs": [],
   "source": []
  },
  {
   "cell_type": "code",
   "execution_count": null,
   "metadata": {},
   "outputs": [],
   "source": []
  }
 ],
 "metadata": {
  "kernelspec": {
   "display_name": "Python 3",
   "language": "python",
   "name": "python3"
  },
  "language_info": {
   "codemirror_mode": {
    "name": "ipython",
    "version": 3
   },
   "file_extension": ".py",
   "mimetype": "text/x-python",
   "name": "python",
   "nbconvert_exporter": "python",
   "pygments_lexer": "ipython3",
   "version": "3.6.4"
  }
 },
 "nbformat": 4,
 "nbformat_minor": 2
}
