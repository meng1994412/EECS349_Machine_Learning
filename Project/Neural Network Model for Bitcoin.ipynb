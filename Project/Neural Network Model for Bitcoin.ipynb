{
 "cells": [
  {
   "cell_type": "code",
   "execution_count": 478,
   "metadata": {},
   "outputs": [],
   "source": [
    "import pandas as pd\n",
    "import numpy as np\n",
    "import matplotlib.pyplot as plt\n",
    "from pandas import Series, DataFrame, Panel\n",
    "from sklearn import preprocessing\n",
    "pd.set_option('display.max_rows',15)\n",
    "import tensorflow as tf"
   ]
  },
  {
   "cell_type": "code",
   "execution_count": 479,
   "metadata": {},
   "outputs": [],
   "source": [
    "# --------------------------- Load Data ----------------------------------"
   ]
  },
  {
   "cell_type": "code",
   "execution_count": 480,
   "metadata": {},
   "outputs": [],
   "source": [
    "bitcoin = pd.read_csv ('./bitcoin_price.csv', parse_dates = True, index_col = [0])"
   ]
  },
  {
   "cell_type": "code",
   "execution_count": 481,
   "metadata": {},
   "outputs": [
    {
     "data": {
      "text/html": [
       "<div>\n",
       "<style scoped>\n",
       "    .dataframe tbody tr th:only-of-type {\n",
       "        vertical-align: middle;\n",
       "    }\n",
       "\n",
       "    .dataframe tbody tr th {\n",
       "        vertical-align: top;\n",
       "    }\n",
       "\n",
       "    .dataframe thead th {\n",
       "        text-align: right;\n",
       "    }\n",
       "</style>\n",
       "<table border=\"1\" class=\"dataframe\">\n",
       "  <thead>\n",
       "    <tr style=\"text-align: right;\">\n",
       "      <th></th>\n",
       "      <th>Open</th>\n",
       "      <th>High</th>\n",
       "      <th>Low</th>\n",
       "      <th>Close</th>\n",
       "      <th>Volume</th>\n",
       "      <th>Market Cap</th>\n",
       "    </tr>\n",
       "    <tr>\n",
       "      <th>Date</th>\n",
       "      <th></th>\n",
       "      <th></th>\n",
       "      <th></th>\n",
       "      <th></th>\n",
       "      <th></th>\n",
       "      <th></th>\n",
       "    </tr>\n",
       "  </thead>\n",
       "  <tbody>\n",
       "    <tr>\n",
       "      <th>2018-02-20</th>\n",
       "      <td>11231.80</td>\n",
       "      <td>11958.50</td>\n",
       "      <td>11231.80</td>\n",
       "      <td>11403.70</td>\n",
       "      <td>9,926,540,000</td>\n",
       "      <td>189,536,000,000</td>\n",
       "    </tr>\n",
       "    <tr>\n",
       "      <th>2018-02-19</th>\n",
       "      <td>10552.60</td>\n",
       "      <td>11273.80</td>\n",
       "      <td>10513.20</td>\n",
       "      <td>11225.30</td>\n",
       "      <td>7,652,090,000</td>\n",
       "      <td>178,055,000,000</td>\n",
       "    </tr>\n",
       "    <tr>\n",
       "      <th>2018-02-18</th>\n",
       "      <td>11123.40</td>\n",
       "      <td>11349.80</td>\n",
       "      <td>10326.00</td>\n",
       "      <td>10551.80</td>\n",
       "      <td>8,744,010,000</td>\n",
       "      <td>187,663,000,000</td>\n",
       "    </tr>\n",
       "    <tr>\n",
       "      <th>2018-02-17</th>\n",
       "      <td>10207.50</td>\n",
       "      <td>11139.50</td>\n",
       "      <td>10149.40</td>\n",
       "      <td>11112.70</td>\n",
       "      <td>8,660,880,000</td>\n",
       "      <td>172,191,000,000</td>\n",
       "    </tr>\n",
       "    <tr>\n",
       "      <th>2018-02-16</th>\n",
       "      <td>10135.70</td>\n",
       "      <td>10324.10</td>\n",
       "      <td>9824.82</td>\n",
       "      <td>10233.90</td>\n",
       "      <td>7,296,160,000</td>\n",
       "      <td>170,960,000,000</td>\n",
       "    </tr>\n",
       "    <tr>\n",
       "      <th>2018-02-15</th>\n",
       "      <td>9488.32</td>\n",
       "      <td>10234.80</td>\n",
       "      <td>9395.58</td>\n",
       "      <td>10166.40</td>\n",
       "      <td>9,062,540,000</td>\n",
       "      <td>160,025,000,000</td>\n",
       "    </tr>\n",
       "    <tr>\n",
       "      <th>2018-02-14</th>\n",
       "      <td>8599.92</td>\n",
       "      <td>9518.54</td>\n",
       "      <td>8599.92</td>\n",
       "      <td>9494.63</td>\n",
       "      <td>7,909,820,000</td>\n",
       "      <td>145,023,000,000</td>\n",
       "    </tr>\n",
       "    <tr>\n",
       "      <th>...</th>\n",
       "      <td>...</td>\n",
       "      <td>...</td>\n",
       "      <td>...</td>\n",
       "      <td>...</td>\n",
       "      <td>...</td>\n",
       "      <td>...</td>\n",
       "    </tr>\n",
       "    <tr>\n",
       "      <th>2013-05-04</th>\n",
       "      <td>98.10</td>\n",
       "      <td>115.00</td>\n",
       "      <td>92.50</td>\n",
       "      <td>112.50</td>\n",
       "      <td>-</td>\n",
       "      <td>1,089,890,000</td>\n",
       "    </tr>\n",
       "    <tr>\n",
       "      <th>2013-05-03</th>\n",
       "      <td>106.25</td>\n",
       "      <td>108.13</td>\n",
       "      <td>79.10</td>\n",
       "      <td>97.75</td>\n",
       "      <td>-</td>\n",
       "      <td>1,180,070,000</td>\n",
       "    </tr>\n",
       "    <tr>\n",
       "      <th>2013-05-02</th>\n",
       "      <td>116.38</td>\n",
       "      <td>125.60</td>\n",
       "      <td>92.28</td>\n",
       "      <td>105.21</td>\n",
       "      <td>-</td>\n",
       "      <td>1,292,190,000</td>\n",
       "    </tr>\n",
       "    <tr>\n",
       "      <th>2013-05-01</th>\n",
       "      <td>139.00</td>\n",
       "      <td>139.89</td>\n",
       "      <td>107.72</td>\n",
       "      <td>116.99</td>\n",
       "      <td>-</td>\n",
       "      <td>1,542,820,000</td>\n",
       "    </tr>\n",
       "    <tr>\n",
       "      <th>2013-04-30</th>\n",
       "      <td>144.00</td>\n",
       "      <td>146.93</td>\n",
       "      <td>134.05</td>\n",
       "      <td>139.00</td>\n",
       "      <td>-</td>\n",
       "      <td>1,597,780,000</td>\n",
       "    </tr>\n",
       "    <tr>\n",
       "      <th>2013-04-29</th>\n",
       "      <td>134.44</td>\n",
       "      <td>147.49</td>\n",
       "      <td>134.00</td>\n",
       "      <td>144.54</td>\n",
       "      <td>-</td>\n",
       "      <td>1,491,160,000</td>\n",
       "    </tr>\n",
       "    <tr>\n",
       "      <th>2013-04-28</th>\n",
       "      <td>135.30</td>\n",
       "      <td>135.98</td>\n",
       "      <td>132.10</td>\n",
       "      <td>134.21</td>\n",
       "      <td>-</td>\n",
       "      <td>1,500,520,000</td>\n",
       "    </tr>\n",
       "  </tbody>\n",
       "</table>\n",
       "<p>1760 rows × 6 columns</p>\n",
       "</div>"
      ],
      "text/plain": [
       "                Open      High       Low     Close         Volume  \\\n",
       "Date                                                                \n",
       "2018-02-20  11231.80  11958.50  11231.80  11403.70  9,926,540,000   \n",
       "2018-02-19  10552.60  11273.80  10513.20  11225.30  7,652,090,000   \n",
       "2018-02-18  11123.40  11349.80  10326.00  10551.80  8,744,010,000   \n",
       "2018-02-17  10207.50  11139.50  10149.40  11112.70  8,660,880,000   \n",
       "2018-02-16  10135.70  10324.10   9824.82  10233.90  7,296,160,000   \n",
       "2018-02-15   9488.32  10234.80   9395.58  10166.40  9,062,540,000   \n",
       "2018-02-14   8599.92   9518.54   8599.92   9494.63  7,909,820,000   \n",
       "...              ...       ...       ...       ...            ...   \n",
       "2013-05-04     98.10    115.00     92.50    112.50              -   \n",
       "2013-05-03    106.25    108.13     79.10     97.75              -   \n",
       "2013-05-02    116.38    125.60     92.28    105.21              -   \n",
       "2013-05-01    139.00    139.89    107.72    116.99              -   \n",
       "2013-04-30    144.00    146.93    134.05    139.00              -   \n",
       "2013-04-29    134.44    147.49    134.00    144.54              -   \n",
       "2013-04-28    135.30    135.98    132.10    134.21              -   \n",
       "\n",
       "                 Market Cap  \n",
       "Date                         \n",
       "2018-02-20  189,536,000,000  \n",
       "2018-02-19  178,055,000,000  \n",
       "2018-02-18  187,663,000,000  \n",
       "2018-02-17  172,191,000,000  \n",
       "2018-02-16  170,960,000,000  \n",
       "2018-02-15  160,025,000,000  \n",
       "2018-02-14  145,023,000,000  \n",
       "...                     ...  \n",
       "2013-05-04    1,089,890,000  \n",
       "2013-05-03    1,180,070,000  \n",
       "2013-05-02    1,292,190,000  \n",
       "2013-05-01    1,542,820,000  \n",
       "2013-04-30    1,597,780,000  \n",
       "2013-04-29    1,491,160,000  \n",
       "2013-04-28    1,500,520,000  \n",
       "\n",
       "[1760 rows x 6 columns]"
      ]
     },
     "execution_count": 481,
     "metadata": {},
     "output_type": "execute_result"
    }
   ],
   "source": [
    "bitcoin"
   ]
  },
  {
   "cell_type": "code",
   "execution_count": 482,
   "metadata": {},
   "outputs": [],
   "source": [
    "bitcoin = bitcoin.sort_index(ascending = True)"
   ]
  },
  {
   "cell_type": "code",
   "execution_count": 483,
   "metadata": {},
   "outputs": [
    {
     "data": {
      "text/html": [
       "<div>\n",
       "<style scoped>\n",
       "    .dataframe tbody tr th:only-of-type {\n",
       "        vertical-align: middle;\n",
       "    }\n",
       "\n",
       "    .dataframe tbody tr th {\n",
       "        vertical-align: top;\n",
       "    }\n",
       "\n",
       "    .dataframe thead th {\n",
       "        text-align: right;\n",
       "    }\n",
       "</style>\n",
       "<table border=\"1\" class=\"dataframe\">\n",
       "  <thead>\n",
       "    <tr style=\"text-align: right;\">\n",
       "      <th></th>\n",
       "      <th>Open</th>\n",
       "      <th>High</th>\n",
       "      <th>Low</th>\n",
       "      <th>Close</th>\n",
       "      <th>Volume</th>\n",
       "      <th>Market Cap</th>\n",
       "    </tr>\n",
       "    <tr>\n",
       "      <th>Date</th>\n",
       "      <th></th>\n",
       "      <th></th>\n",
       "      <th></th>\n",
       "      <th></th>\n",
       "      <th></th>\n",
       "      <th></th>\n",
       "    </tr>\n",
       "  </thead>\n",
       "  <tbody>\n",
       "    <tr>\n",
       "      <th>2013-04-28</th>\n",
       "      <td>135.30</td>\n",
       "      <td>135.98</td>\n",
       "      <td>132.10</td>\n",
       "      <td>134.21</td>\n",
       "      <td>-</td>\n",
       "      <td>1,500,520,000</td>\n",
       "    </tr>\n",
       "    <tr>\n",
       "      <th>2013-04-29</th>\n",
       "      <td>134.44</td>\n",
       "      <td>147.49</td>\n",
       "      <td>134.00</td>\n",
       "      <td>144.54</td>\n",
       "      <td>-</td>\n",
       "      <td>1,491,160,000</td>\n",
       "    </tr>\n",
       "    <tr>\n",
       "      <th>2013-04-30</th>\n",
       "      <td>144.00</td>\n",
       "      <td>146.93</td>\n",
       "      <td>134.05</td>\n",
       "      <td>139.00</td>\n",
       "      <td>-</td>\n",
       "      <td>1,597,780,000</td>\n",
       "    </tr>\n",
       "    <tr>\n",
       "      <th>2013-05-01</th>\n",
       "      <td>139.00</td>\n",
       "      <td>139.89</td>\n",
       "      <td>107.72</td>\n",
       "      <td>116.99</td>\n",
       "      <td>-</td>\n",
       "      <td>1,542,820,000</td>\n",
       "    </tr>\n",
       "    <tr>\n",
       "      <th>2013-05-02</th>\n",
       "      <td>116.38</td>\n",
       "      <td>125.60</td>\n",
       "      <td>92.28</td>\n",
       "      <td>105.21</td>\n",
       "      <td>-</td>\n",
       "      <td>1,292,190,000</td>\n",
       "    </tr>\n",
       "    <tr>\n",
       "      <th>2013-05-03</th>\n",
       "      <td>106.25</td>\n",
       "      <td>108.13</td>\n",
       "      <td>79.10</td>\n",
       "      <td>97.75</td>\n",
       "      <td>-</td>\n",
       "      <td>1,180,070,000</td>\n",
       "    </tr>\n",
       "    <tr>\n",
       "      <th>2013-05-04</th>\n",
       "      <td>98.10</td>\n",
       "      <td>115.00</td>\n",
       "      <td>92.50</td>\n",
       "      <td>112.50</td>\n",
       "      <td>-</td>\n",
       "      <td>1,089,890,000</td>\n",
       "    </tr>\n",
       "    <tr>\n",
       "      <th>...</th>\n",
       "      <td>...</td>\n",
       "      <td>...</td>\n",
       "      <td>...</td>\n",
       "      <td>...</td>\n",
       "      <td>...</td>\n",
       "      <td>...</td>\n",
       "    </tr>\n",
       "    <tr>\n",
       "      <th>2018-02-14</th>\n",
       "      <td>8599.92</td>\n",
       "      <td>9518.54</td>\n",
       "      <td>8599.92</td>\n",
       "      <td>9494.63</td>\n",
       "      <td>7,909,820,000</td>\n",
       "      <td>145,023,000,000</td>\n",
       "    </tr>\n",
       "    <tr>\n",
       "      <th>2018-02-15</th>\n",
       "      <td>9488.32</td>\n",
       "      <td>10234.80</td>\n",
       "      <td>9395.58</td>\n",
       "      <td>10166.40</td>\n",
       "      <td>9,062,540,000</td>\n",
       "      <td>160,025,000,000</td>\n",
       "    </tr>\n",
       "    <tr>\n",
       "      <th>2018-02-16</th>\n",
       "      <td>10135.70</td>\n",
       "      <td>10324.10</td>\n",
       "      <td>9824.82</td>\n",
       "      <td>10233.90</td>\n",
       "      <td>7,296,160,000</td>\n",
       "      <td>170,960,000,000</td>\n",
       "    </tr>\n",
       "    <tr>\n",
       "      <th>2018-02-17</th>\n",
       "      <td>10207.50</td>\n",
       "      <td>11139.50</td>\n",
       "      <td>10149.40</td>\n",
       "      <td>11112.70</td>\n",
       "      <td>8,660,880,000</td>\n",
       "      <td>172,191,000,000</td>\n",
       "    </tr>\n",
       "    <tr>\n",
       "      <th>2018-02-18</th>\n",
       "      <td>11123.40</td>\n",
       "      <td>11349.80</td>\n",
       "      <td>10326.00</td>\n",
       "      <td>10551.80</td>\n",
       "      <td>8,744,010,000</td>\n",
       "      <td>187,663,000,000</td>\n",
       "    </tr>\n",
       "    <tr>\n",
       "      <th>2018-02-19</th>\n",
       "      <td>10552.60</td>\n",
       "      <td>11273.80</td>\n",
       "      <td>10513.20</td>\n",
       "      <td>11225.30</td>\n",
       "      <td>7,652,090,000</td>\n",
       "      <td>178,055,000,000</td>\n",
       "    </tr>\n",
       "    <tr>\n",
       "      <th>2018-02-20</th>\n",
       "      <td>11231.80</td>\n",
       "      <td>11958.50</td>\n",
       "      <td>11231.80</td>\n",
       "      <td>11403.70</td>\n",
       "      <td>9,926,540,000</td>\n",
       "      <td>189,536,000,000</td>\n",
       "    </tr>\n",
       "  </tbody>\n",
       "</table>\n",
       "<p>1760 rows × 6 columns</p>\n",
       "</div>"
      ],
      "text/plain": [
       "                Open      High       Low     Close         Volume  \\\n",
       "Date                                                                \n",
       "2013-04-28    135.30    135.98    132.10    134.21              -   \n",
       "2013-04-29    134.44    147.49    134.00    144.54              -   \n",
       "2013-04-30    144.00    146.93    134.05    139.00              -   \n",
       "2013-05-01    139.00    139.89    107.72    116.99              -   \n",
       "2013-05-02    116.38    125.60     92.28    105.21              -   \n",
       "2013-05-03    106.25    108.13     79.10     97.75              -   \n",
       "2013-05-04     98.10    115.00     92.50    112.50              -   \n",
       "...              ...       ...       ...       ...            ...   \n",
       "2018-02-14   8599.92   9518.54   8599.92   9494.63  7,909,820,000   \n",
       "2018-02-15   9488.32  10234.80   9395.58  10166.40  9,062,540,000   \n",
       "2018-02-16  10135.70  10324.10   9824.82  10233.90  7,296,160,000   \n",
       "2018-02-17  10207.50  11139.50  10149.40  11112.70  8,660,880,000   \n",
       "2018-02-18  11123.40  11349.80  10326.00  10551.80  8,744,010,000   \n",
       "2018-02-19  10552.60  11273.80  10513.20  11225.30  7,652,090,000   \n",
       "2018-02-20  11231.80  11958.50  11231.80  11403.70  9,926,540,000   \n",
       "\n",
       "                 Market Cap  \n",
       "Date                         \n",
       "2013-04-28    1,500,520,000  \n",
       "2013-04-29    1,491,160,000  \n",
       "2013-04-30    1,597,780,000  \n",
       "2013-05-01    1,542,820,000  \n",
       "2013-05-02    1,292,190,000  \n",
       "2013-05-03    1,180,070,000  \n",
       "2013-05-04    1,089,890,000  \n",
       "...                     ...  \n",
       "2018-02-14  145,023,000,000  \n",
       "2018-02-15  160,025,000,000  \n",
       "2018-02-16  170,960,000,000  \n",
       "2018-02-17  172,191,000,000  \n",
       "2018-02-18  187,663,000,000  \n",
       "2018-02-19  178,055,000,000  \n",
       "2018-02-20  189,536,000,000  \n",
       "\n",
       "[1760 rows x 6 columns]"
      ]
     },
     "execution_count": 483,
     "metadata": {},
     "output_type": "execute_result"
    }
   ],
   "source": [
    "bitcoin"
   ]
  },
  {
   "cell_type": "code",
   "execution_count": 484,
   "metadata": {},
   "outputs": [],
   "source": [
    "# -------------------------- Deal with missing values ---------------------------"
   ]
  },
  {
   "cell_type": "code",
   "execution_count": 485,
   "metadata": {},
   "outputs": [
    {
     "data": {
      "image/png": "[encoded data removed]",
      "text/plain": [
       "<matplotlib.figure.Figure at 0x7f0ac8769518>"
      ]
     },
     "metadata": {},
     "output_type": "display_data"
    }
   ],
   "source": [
    "bitcoin_vol = bitcoin['Volume']\n",
    "# remove the comma (,) in volume value string\n",
    "bitcoin_vol_1 = bitcoin_vol[bitcoin_vol != \"-\"]\n",
    "bitcoin_vol_1 = bitcoin_vol_1.apply(lambda x: float(x.replace(',', '')))\n",
    "\n",
    "plt.figure(figsize = (20, 6))\n",
    "plt.plot(bitcoin_vol_1)\n",
    "plt.show()"
   ]
  },
  {
   "cell_type": "code",
   "execution_count": 486,
   "metadata": {},
   "outputs": [
    {
     "name": "stdout",
     "output_type": "stream",
     "text": [
      "25801388.321167883\n"
     ]
    },
    {
     "data": {
      "text/plain": [
       "Date\n",
       "2013-04-28    2.58014e+07\n",
       "2013-04-29    2.58014e+07\n",
       "2013-04-30    2.58014e+07\n",
       "2013-05-01    2.58014e+07\n",
       "2013-05-02    2.58014e+07\n",
       "2013-05-03    2.58014e+07\n",
       "2013-05-04    2.58014e+07\n",
       "                 ...     \n",
       "2018-02-14    7.90982e+09\n",
       "2018-02-15    9.06254e+09\n",
       "2018-02-16    7.29616e+09\n",
       "2018-02-17    8.66088e+09\n",
       "2018-02-18    8.74401e+09\n",
       "2018-02-19    7.65209e+09\n",
       "2018-02-20    9.92654e+09\n",
       "Name: Volume, Length: 1760, dtype: object"
      ]
     },
     "execution_count": 486,
     "metadata": {},
     "output_type": "execute_result"
    }
   ],
   "source": [
    "# use the mean value between 2014-01 to 2014-09 to replace the missing value\n",
    "bitcoin_vol_2014 = pd.DataFrame(bitcoin_vol_1).loc['2014-01-01': '2014-10-01']\n",
    "bitcoin_vol_2014_mean = bitcoin_vol_2014['Volume'].mean()\n",
    "print(bitcoin_vol_2014_mean)\n",
    "bitcoin_vol_2 = bitcoin_vol[bitcoin_vol == \"-\"]\n",
    "bitcoin_vol_2 = bitcoin_vol_2.apply(lambda x: float(x.replace('-', '%f' % (bitcoin_vol_2014_mean))))\n",
    "# update dataset\n",
    "bitcoin_vol.update(bitcoin_vol_1)\n",
    "bitcoin_vol.update(bitcoin_vol_2)\n",
    "bitcoin_vol"
   ]
  },
  {
   "cell_type": "code",
   "execution_count": 487,
   "metadata": {},
   "outputs": [
    {
     "data": {
      "image/png": "[encoded data removed]",
      "text/plain": [
       "<matplotlib.figure.Figure at 0x7f0ac84eb898>"
      ]
     },
     "metadata": {},
     "output_type": "display_data"
    }
   ],
   "source": [
    "# remove the comma (,) in market cap value string\n",
    "bitcoin_mc = bitcoin['Market Cap']\n",
    "bitcoin_mc = bitcoin_mc.apply(lambda x: float(x.replace(',', '')))\n",
    "\n",
    "plt.figure(figsize = (20, 6))\n",
    "plt.plot(bitcoin_mc)\n",
    "plt.show()"
   ]
  },
  {
   "cell_type": "code",
   "execution_count": 488,
   "metadata": {},
   "outputs": [],
   "source": [
    "# update datasets\n",
    "bitcoin['Volume'].update(bitcoin_vol)\n",
    "bitcoin['Market Cap'].update(bitcoin_mc)"
   ]
  },
  {
   "cell_type": "code",
   "execution_count": 489,
   "metadata": {},
   "outputs": [
    {
     "data": {
      "text/html": [
       "<div>\n",
       "<style scoped>\n",
       "    .dataframe tbody tr th:only-of-type {\n",
       "        vertical-align: middle;\n",
       "    }\n",
       "\n",
       "    .dataframe tbody tr th {\n",
       "        vertical-align: top;\n",
       "    }\n",
       "\n",
       "    .dataframe thead th {\n",
       "        text-align: right;\n",
       "    }\n",
       "</style>\n",
       "<table border=\"1\" class=\"dataframe\">\n",
       "  <thead>\n",
       "    <tr style=\"text-align: right;\">\n",
       "      <th></th>\n",
       "      <th>Open</th>\n",
       "      <th>High</th>\n",
       "      <th>Low</th>\n",
       "      <th>Close</th>\n",
       "      <th>Volume</th>\n",
       "      <th>Market Cap</th>\n",
       "    </tr>\n",
       "    <tr>\n",
       "      <th>Date</th>\n",
       "      <th></th>\n",
       "      <th></th>\n",
       "      <th></th>\n",
       "      <th></th>\n",
       "      <th></th>\n",
       "      <th></th>\n",
       "    </tr>\n",
       "  </thead>\n",
       "  <tbody>\n",
       "    <tr>\n",
       "      <th>2013-04-28</th>\n",
       "      <td>135.30</td>\n",
       "      <td>135.98</td>\n",
       "      <td>132.10</td>\n",
       "      <td>134.21</td>\n",
       "      <td>2.58014e+07</td>\n",
       "      <td>1.50052e+09</td>\n",
       "    </tr>\n",
       "    <tr>\n",
       "      <th>2013-04-29</th>\n",
       "      <td>134.44</td>\n",
       "      <td>147.49</td>\n",
       "      <td>134.00</td>\n",
       "      <td>144.54</td>\n",
       "      <td>2.58014e+07</td>\n",
       "      <td>1.49116e+09</td>\n",
       "    </tr>\n",
       "    <tr>\n",
       "      <th>2013-04-30</th>\n",
       "      <td>144.00</td>\n",
       "      <td>146.93</td>\n",
       "      <td>134.05</td>\n",
       "      <td>139.00</td>\n",
       "      <td>2.58014e+07</td>\n",
       "      <td>1.59778e+09</td>\n",
       "    </tr>\n",
       "    <tr>\n",
       "      <th>2013-05-01</th>\n",
       "      <td>139.00</td>\n",
       "      <td>139.89</td>\n",
       "      <td>107.72</td>\n",
       "      <td>116.99</td>\n",
       "      <td>2.58014e+07</td>\n",
       "      <td>1.54282e+09</td>\n",
       "    </tr>\n",
       "    <tr>\n",
       "      <th>2013-05-02</th>\n",
       "      <td>116.38</td>\n",
       "      <td>125.60</td>\n",
       "      <td>92.28</td>\n",
       "      <td>105.21</td>\n",
       "      <td>2.58014e+07</td>\n",
       "      <td>1.29219e+09</td>\n",
       "    </tr>\n",
       "    <tr>\n",
       "      <th>2013-05-03</th>\n",
       "      <td>106.25</td>\n",
       "      <td>108.13</td>\n",
       "      <td>79.10</td>\n",
       "      <td>97.75</td>\n",
       "      <td>2.58014e+07</td>\n",
       "      <td>1.18007e+09</td>\n",
       "    </tr>\n",
       "    <tr>\n",
       "      <th>2013-05-04</th>\n",
       "      <td>98.10</td>\n",
       "      <td>115.00</td>\n",
       "      <td>92.50</td>\n",
       "      <td>112.50</td>\n",
       "      <td>2.58014e+07</td>\n",
       "      <td>1.08989e+09</td>\n",
       "    </tr>\n",
       "    <tr>\n",
       "      <th>...</th>\n",
       "      <td>...</td>\n",
       "      <td>...</td>\n",
       "      <td>...</td>\n",
       "      <td>...</td>\n",
       "      <td>...</td>\n",
       "      <td>...</td>\n",
       "    </tr>\n",
       "    <tr>\n",
       "      <th>2018-02-14</th>\n",
       "      <td>8599.92</td>\n",
       "      <td>9518.54</td>\n",
       "      <td>8599.92</td>\n",
       "      <td>9494.63</td>\n",
       "      <td>7.90982e+09</td>\n",
       "      <td>1.45023e+11</td>\n",
       "    </tr>\n",
       "    <tr>\n",
       "      <th>2018-02-15</th>\n",
       "      <td>9488.32</td>\n",
       "      <td>10234.80</td>\n",
       "      <td>9395.58</td>\n",
       "      <td>10166.40</td>\n",
       "      <td>9.06254e+09</td>\n",
       "      <td>1.60025e+11</td>\n",
       "    </tr>\n",
       "    <tr>\n",
       "      <th>2018-02-16</th>\n",
       "      <td>10135.70</td>\n",
       "      <td>10324.10</td>\n",
       "      <td>9824.82</td>\n",
       "      <td>10233.90</td>\n",
       "      <td>7.29616e+09</td>\n",
       "      <td>1.7096e+11</td>\n",
       "    </tr>\n",
       "    <tr>\n",
       "      <th>2018-02-17</th>\n",
       "      <td>10207.50</td>\n",
       "      <td>11139.50</td>\n",
       "      <td>10149.40</td>\n",
       "      <td>11112.70</td>\n",
       "      <td>8.66088e+09</td>\n",
       "      <td>1.72191e+11</td>\n",
       "    </tr>\n",
       "    <tr>\n",
       "      <th>2018-02-18</th>\n",
       "      <td>11123.40</td>\n",
       "      <td>11349.80</td>\n",
       "      <td>10326.00</td>\n",
       "      <td>10551.80</td>\n",
       "      <td>8.74401e+09</td>\n",
       "      <td>1.87663e+11</td>\n",
       "    </tr>\n",
       "    <tr>\n",
       "      <th>2018-02-19</th>\n",
       "      <td>10552.60</td>\n",
       "      <td>11273.80</td>\n",
       "      <td>10513.20</td>\n",
       "      <td>11225.30</td>\n",
       "      <td>7.65209e+09</td>\n",
       "      <td>1.78055e+11</td>\n",
       "    </tr>\n",
       "    <tr>\n",
       "      <th>2018-02-20</th>\n",
       "      <td>11231.80</td>\n",
       "      <td>11958.50</td>\n",
       "      <td>11231.80</td>\n",
       "      <td>11403.70</td>\n",
       "      <td>9.92654e+09</td>\n",
       "      <td>1.89536e+11</td>\n",
       "    </tr>\n",
       "  </tbody>\n",
       "</table>\n",
       "<p>1760 rows × 6 columns</p>\n",
       "</div>"
      ],
      "text/plain": [
       "                Open      High       Low     Close       Volume   Market Cap\n",
       "Date                                                                        \n",
       "2013-04-28    135.30    135.98    132.10    134.21  2.58014e+07  1.50052e+09\n",
       "2013-04-29    134.44    147.49    134.00    144.54  2.58014e+07  1.49116e+09\n",
       "2013-04-30    144.00    146.93    134.05    139.00  2.58014e+07  1.59778e+09\n",
       "2013-05-01    139.00    139.89    107.72    116.99  2.58014e+07  1.54282e+09\n",
       "2013-05-02    116.38    125.60     92.28    105.21  2.58014e+07  1.29219e+09\n",
       "2013-05-03    106.25    108.13     79.10     97.75  2.58014e+07  1.18007e+09\n",
       "2013-05-04     98.10    115.00     92.50    112.50  2.58014e+07  1.08989e+09\n",
       "...              ...       ...       ...       ...          ...          ...\n",
       "2018-02-14   8599.92   9518.54   8599.92   9494.63  7.90982e+09  1.45023e+11\n",
       "2018-02-15   9488.32  10234.80   9395.58  10166.40  9.06254e+09  1.60025e+11\n",
       "2018-02-16  10135.70  10324.10   9824.82  10233.90  7.29616e+09   1.7096e+11\n",
       "2018-02-17  10207.50  11139.50  10149.40  11112.70  8.66088e+09  1.72191e+11\n",
       "2018-02-18  11123.40  11349.80  10326.00  10551.80  8.74401e+09  1.87663e+11\n",
       "2018-02-19  10552.60  11273.80  10513.20  11225.30  7.65209e+09  1.78055e+11\n",
       "2018-02-20  11231.80  11958.50  11231.80  11403.70  9.92654e+09  1.89536e+11\n",
       "\n",
       "[1760 rows x 6 columns]"
      ]
     },
     "execution_count": 489,
     "metadata": {},
     "output_type": "execute_result"
    }
   ],
   "source": [
    "bitcoin"
   ]
  },
  {
   "cell_type": "code",
   "execution_count": 490,
   "metadata": {},
   "outputs": [],
   "source": [
    "# ------------------------------ Build Neural Network ----------------------------"
   ]
  },
  {
   "cell_type": "code",
   "execution_count": 491,
   "metadata": {},
   "outputs": [],
   "source": [
    "# scale dataset\n",
    "scaler = preprocessing.MinMaxScaler()\n",
    "scaler.fit(bitcoin)\n",
    "bitcoin = scaler.transform(bitcoin)"
   ]
  },
  {
   "cell_type": "code",
   "execution_count": 492,
   "metadata": {},
   "outputs": [
    {
     "data": {
      "text/plain": [
       "array([[0.003442  , 0.00306878, 0.00352063, 0.00338567, 0.00096248,\n",
       "        0.00221681],\n",
       "       [0.00339769, 0.00364387, 0.00362111, 0.00391735, 0.00096248,\n",
       "        0.00218804],\n",
       "       [0.00389029, 0.00361589, 0.00362375, 0.0036322 , 0.00096248,\n",
       "        0.00251574],\n",
       "       ...,\n",
       "       [0.56962586, 0.56335526, 0.54263596, 0.53957415, 0.36668918,\n",
       "        0.57438758],\n",
       "       [0.54021425, 0.559558  , 0.55253623, 0.57423888, 0.32088341,\n",
       "        0.54485737],\n",
       "       [0.57521139, 0.5937683 , 0.59054016, 0.58342105, 0.41629602,\n",
       "        0.58014425]])"
      ]
     },
     "execution_count": 492,
     "metadata": {},
     "output_type": "execute_result"
    }
   ],
   "source": [
    "bitcoin"
   ]
  },
  {
   "cell_type": "code",
   "execution_count": 493,
   "metadata": {},
   "outputs": [],
   "source": [
    "# split data into training set and testing set\n",
    "split = int(0.9 * bitcoin.shape[0])\n",
    "train_data = bitcoin[0 : split]\n",
    "test_data = bitcoin[split :]"
   ]
  },
  {
   "cell_type": "code",
   "execution_count": 494,
   "metadata": {},
   "outputs": [
    {
     "name": "stdout",
     "output_type": "stream",
     "text": [
      "(1584, 6) (176, 6)\n"
     ]
    }
   ],
   "source": [
    "print(train_data.shape, test_data.shape)"
   ]
  },
  {
   "cell_type": "code",
   "execution_count": 495,
   "metadata": {},
   "outputs": [],
   "source": [
    "# use Open, Volume, Market Cap in training data as input training matrix (1584 x 3)\n",
    "x_train = train_data[:, [0,2,3]]\n",
    "# use Close in training data as output training matrix (1584 x 1)\n",
    "y_train = train_data[:, 1]\n",
    "\n",
    "# use Open, Volume, Market Cap in testing data as input testing matrix (1584 x 3)\n",
    "x_test = test_data[:, [0,2,3]]\n",
    "y_test = test_data[:, 1]"
   ]
  },
  {
   "cell_type": "code",
   "execution_count": 496,
   "metadata": {},
   "outputs": [
    {
     "name": "stdout",
     "output_type": "stream",
     "text": [
      "(1584, 3) (1584,) (176, 3) (176,)\n"
     ]
    }
   ],
   "source": [
    "print(x_train.shape, y_train.shape, x_test.shape, y_test.shape)"
   ]
  },
  {
   "cell_type": "code",
   "execution_count": null,
   "metadata": {},
   "outputs": [],
   "source": []
  },
  {
   "cell_type": "code",
   "execution_count": 497,
   "metadata": {},
   "outputs": [],
   "source": [
    "# set the number of input dataset\n",
    "n_dataset = x_train.shape[1]\n",
    "\n",
    "# set the number of neurons in each layer\n",
    "n_neurons_1 = 8\n",
    "n_neurons_2 = 4\n",
    "n_neurons_3 = 2\n",
    "n_target = 1"
   ]
  },
  {
   "cell_type": "code",
   "execution_count": 498,
   "metadata": {},
   "outputs": [
    {
     "name": "stderr",
     "output_type": "stream",
     "text": [
      "/home/sunny/.conda/envs/py3env/lib/python3.6/site-packages/tensorflow/python/client/session.py:1711: UserWarning: An interactive session is already active. This can cause out-of-memory errors in some cases. You must explicitly call `InteractiveSession.close()` to release resources held by the other session(s).\n",
      "  warnings.warn('An interactive session is already active. This can '\n"
     ]
    }
   ],
   "source": [
    "# Session\n",
    "net = tf.InteractiveSession()"
   ]
  },
  {
   "cell_type": "code",
   "execution_count": 499,
   "metadata": {},
   "outputs": [],
   "source": [
    "# define the input and output placeholder for neural network\n",
    "# The None argument indicates that at this point we do not yet know the number of \n",
    "# observations that flow through the neural net graph in each batch\n",
    "X = tf.placeholder(dtype = tf.float32, name = \"X\", shape = [None, 3])\n",
    "Y = tf.placeholder(dtype = tf.float32, name = \"Y\", shape = [None])"
   ]
  },
  {
   "cell_type": "code",
   "execution_count": 500,
   "metadata": {},
   "outputs": [],
   "source": [
    "# define initializers\n",
    "sigma = 1\n",
    "weight_initializer = tf.variance_scaling_initializer(mode = \"fan_avg\", distribution = \"uniform\", scale = sigma)\n",
    "bias_initializer = tf.zeros_initializer()"
   ]
  },
  {
   "cell_type": "code",
   "execution_count": 501,
   "metadata": {},
   "outputs": [],
   "source": [
    "# model architecture parameter\n",
    "# hidden weights + bias\n",
    "\n",
    "# Layer 1: Variables for hidden weights and biases\n",
    "w_hidden_1 = tf.Variable(weight_initializer([n_dataset, n_neurons_1]))\n",
    "bias_hidden_1 = tf.Variable(bias_initializer([n_neurons_1]))\n",
    "\n",
    "# Layer 2: Varibales for hidden weights and biases\n",
    "w_hidden_2 = tf.Variable(weight_initializer([n_neurons_1, n_neurons_2]))\n",
    "bias_hidden_2 = tf.Variable(bias_initializer([n_neurons_2]))\n",
    "\n",
    "# Layer 3: Variables for hidden weights and biases\n",
    "W_hidden_3 = tf.Variable(weight_initializer([n_neurons_2, n_neurons_3]))\n",
    "bias_hidden_3 = tf.Variable(bias_initializer([n_neurons_3]))\n",
    "\n",
    "# Output Layer: Variable for hidden weights and biases\n",
    "w_out = tf.Variable(weight_initializer([n_neurons_3, n_target]))\n",
    "bias_out = tf.Variable(bias_initializer([n_target]))"
   ]
  },
  {
   "cell_type": "code",
   "execution_count": 502,
   "metadata": {},
   "outputs": [
    {
     "data": {
      "text/plain": [
       "<tf.Variable 'Variable_102:0' shape=(2, 1) dtype=float32_ref>"
      ]
     },
     "execution_count": 502,
     "metadata": {},
     "output_type": "execute_result"
    }
   ],
   "source": [
    "w_out"
   ]
  },
  {
   "cell_type": "code",
   "execution_count": 503,
   "metadata": {},
   "outputs": [],
   "source": [
    "# Activation function for hidden layers (ReLU)\n",
    "\n",
    "# activation function for hidden layer 1\n",
    "hidden_1 = tf.nn.relu(tf.add(tf.matmul(X, w_hidden_1), bias_hidden_1))\n",
    "\n",
    "# activation function for hidden layer 2\n",
    "hidden_2 = tf.nn.relu(tf.add(tf.matmul(hidden_1, w_hidden_2), bias_hidden_2))\n",
    "\n",
    "# activation function for hidden layer 3\n",
    "hidden_3 = tf.nn.relu(tf.add(tf.matmul(hidden_2, w_hidden_3), bias_hidden_3))\n",
    "\n",
    "# output layer\n",
    "out = tf.transpose(tf.add(tf.matmul(hidden_3, w_out), bias_out))"
   ]
  },
  {
   "cell_type": "code",
   "execution_count": 504,
   "metadata": {},
   "outputs": [
    {
     "data": {
      "text/plain": [
       "<tf.Tensor 'transpose_11:0' shape=(1, ?) dtype=float32>"
      ]
     },
     "execution_count": 504,
     "metadata": {},
     "output_type": "execute_result"
    }
   ],
   "source": [
    "out"
   ]
  },
  {
   "cell_type": "code",
   "execution_count": 505,
   "metadata": {},
   "outputs": [],
   "source": [
    "# define cost function\n",
    "mse = tf.reduce_mean(tf.squared_difference(out, Y))"
   ]
  },
  {
   "cell_type": "code",
   "execution_count": 506,
   "metadata": {},
   "outputs": [],
   "source": [
    "# define optimizer\n",
    "opt = tf.train.AdamOptimizer().minimize(mse)"
   ]
  },
  {
   "cell_type": "code",
   "execution_count": 507,
   "metadata": {},
   "outputs": [],
   "source": [
    "# initialize all variables \n",
    "net.run(tf.global_variables_initializer())"
   ]
  },
  {
   "cell_type": "code",
   "execution_count": 508,
   "metadata": {},
   "outputs": [
    {
     "data": {
      "image/png": "[encoded data removed]",
      "text/plain": [
       "<matplotlib.figure.Figure at 0x7f0ac8a46978>"
      ]
     },
     "metadata": {},
     "output_type": "display_data"
    }
   ],
   "source": [
    "# set up plot\n",
    "plt.ion()\n",
    "fig = plt.figure()\n",
    "ax1 = fig.add_subplot(111)\n",
    "line1, = ax1.plot(y_test)\n",
    "line2, = ax1.plot(y_test * 0.5)\n",
    "plt.show()"
   ]
  },
  {
   "cell_type": "code",
   "execution_count": 509,
   "metadata": {},
   "outputs": [
    {
     "data": {
      "text/plain": [
       "1584"
      ]
     },
     "execution_count": 509,
     "metadata": {},
     "output_type": "execute_result"
    }
   ],
   "source": [
    "len(y_train)"
   ]
  },
  {
   "cell_type": "code",
   "execution_count": 510,
   "metadata": {},
   "outputs": [],
   "source": [
    "# fit neural net\n",
    "batch_size = 15\n",
    "epochs = 10\n",
    "\n",
    "mse_train = []\n",
    "mse_test = []\n",
    "\n",
    "for e in range(epochs):\n",
    "    \n",
    "    # shuffle data first\n",
    "    shuffle_indices = np.random.permutation(np.arange(0,len(y_train)))\n",
    "    x_train = x_train[shuffle_indices]\n",
    "    y_train = y_train[shuffle_indices]\n",
    "    \n",
    "    # mini-batch training\n",
    "    for i in range(len(y_train) // batch_size):\n",
    "        start = i * batch_size\n",
    "        batch_x = x_train[start: start + batch_size]\n",
    "        batch_y = y_train[start: start + batch_size]\n",
    "        \n",
    "        # Run optimizer with batch\n",
    "        net.run(opt, feed_dict = {X: batch_x, Y: batch_y})\n",
    "        \n",
    "        # show progress\n",
    "        if np.mod(i, 50) == 0:\n",
    "            \n",
    "            # MSE train and test\n",
    "            mse_train.append(net.run(mse, feed_dict = {X: batch_x, Y: batch_y}))\n",
    "            mse_test.append(net.run(mse, feed_dict = {X: x_test, Y: y_test}))\n",
    "            \n",
    "            # prediction\n",
    "        pred = net.run(out, feed_dict = {X: x_test})\n",
    "            "
   ]
  },
  {
   "cell_type": "code",
   "execution_count": 511,
   "metadata": {},
   "outputs": [
    {
     "data": {
      "text/plain": [
       "array([[0.22748302, 0.23325573, 0.2368144 , 0.24436758, 0.237261  ,\n",
       "        0.23191053, 0.21905418, 0.21257177, 0.22826858, 0.23442714,\n",
       "        0.21810316, 0.21482322, 0.20874104, 0.21247719, 0.21230158,\n",
       "        0.20028377, 0.17048463, 0.1600348 , 0.18251148, 0.18042085,\n",
       "        0.18930322, 0.20246147, 0.20005737, 0.18965855, 0.18450995,\n",
       "        0.18732932, 0.19055682, 0.1919214 , 0.20045577, 0.20337863,\n",
       "        0.21381612, 0.21119498, 0.21658128, 0.22269104, 0.22677207,\n",
       "        0.2223472 , 0.2189423 , 0.21734557, 0.2237765 , 0.22485152,\n",
       "        0.22993724, 0.23862338, 0.24694334, 0.24709162, 0.25557056,\n",
       "        0.28428924, 0.29300532, 0.29032144, 0.29105172, 0.2883329 ,\n",
       "        0.27647626, 0.2892419 , 0.29656848, 0.31079373, 0.30563584,\n",
       "        0.30266368, 0.29089588, 0.28475472, 0.29899594, 0.29988745,\n",
       "        0.2970505 , 0.3015031 , 0.31550148, 0.32081938, 0.33590356,\n",
       "        0.35476774, 0.36732683, 0.37074038, 0.38332713, 0.36950135,\n",
       "        0.3665992 , 0.37380403, 0.3741036 , 0.3450986 , 0.3287513 ,\n",
       "        0.29960513, 0.31123543, 0.3387427 , 0.35138756, 0.38178018,\n",
       "        0.39864376, 0.3944745 , 0.40482822, 0.4176213 , 0.41254753,\n",
       "        0.42253375, 0.42121944, 0.41826883, 0.43313012, 0.46302208,\n",
       "        0.49239597, 0.51228267, 0.5094802 , 0.49815363, 0.52400756,\n",
       "        0.5721896 , 0.5744033 , 0.5871887 , 0.61042196, 0.6454209 ,\n",
       "        0.77395606, 0.8124803 , 0.76347566, 0.735848  , 0.8210743 ,\n",
       "        0.879929  , 0.860765  , 0.8535042 , 0.8797836 , 0.9389801 ,\n",
       "        1.0018566 , 0.97781634, 0.9315883 , 0.8670805 , 0.82303053,\n",
       "        0.6856884 , 0.7331314 , 0.6998719 , 0.71550196, 0.75352824,\n",
       "        0.8104896 , 0.758508  , 0.7566352 , 0.6791939 , 0.681876  ,\n",
       "        0.7042143 , 0.71105087, 0.7819442 , 0.7790413 , 0.8199322 ,\n",
       "        0.8934897 , 0.8632438 , 0.77956307, 0.7648392 , 0.7390036 ,\n",
       "        0.7105442 , 0.69948995, 0.73388726, 0.7119226 , 0.7168922 ,\n",
       "        0.5878757 , 0.53152347, 0.5797282 , 0.5909199 , 0.62085927,\n",
       "        0.61189467, 0.55780894, 0.54554456, 0.5656348 , 0.58397794,\n",
       "        0.5627687 , 0.5805885 , 0.602641  , 0.5921233 , 0.53981894,\n",
       "        0.51848274, 0.4799483 , 0.4318635 , 0.44588962, 0.43445465,\n",
       "        0.37135336, 0.34205928, 0.3864854 , 0.40367463, 0.4233757 ,\n",
       "        0.4405282 , 0.42327   , 0.4316413 , 0.44778785, 0.45678943,\n",
       "        0.49860576, 0.5204166 , 0.53965473, 0.55087876, 0.5562298 ,\n",
       "        0.5885298 ]], dtype=float32)"
      ]
     },
     "execution_count": 511,
     "metadata": {},
     "output_type": "execute_result"
    }
   ],
   "source": [
    "pred"
   ]
  },
  {
   "cell_type": "code",
   "execution_count": 512,
   "metadata": {},
   "outputs": [
    {
     "data": {
      "text/plain": [
       "[0.19812955,\n",
       " 0.14071068,\n",
       " 0.0896416,\n",
       " 0.083640985,\n",
       " 0.042545486,\n",
       " 0.0085328715,\n",
       " 0.006750794,\n",
       " 0.0010229864,\n",
       " 0.0007166053,\n",
       " 0.00072896923,\n",
       " 0.00068097,\n",
       " 0.00064325857,\n",
       " 0.0006148285,\n",
       " 0.00067658484,\n",
       " 0.0006639708,\n",
       " 0.00066235964,\n",
       " 0.0006484947,\n",
       " 0.0007036228,\n",
       " 0.00067659933,\n",
       " 0.0006983681,\n",
       " 0.00059190206,\n",
       " 0.00061159156,\n",
       " 0.0006338967,\n",
       " 0.000788848,\n",
       " 0.0007475013,\n",
       " 0.000660013,\n",
       " 0.00064524566,\n",
       " 0.0006269166,\n",
       " 0.0005686292,\n",
       " 0.0007318901]"
      ]
     },
     "execution_count": 512,
     "metadata": {},
     "output_type": "execute_result"
    }
   ],
   "source": [
    "mse_test"
   ]
  },
  {
   "cell_type": "code",
   "execution_count": 513,
   "metadata": {},
   "outputs": [
    {
     "data": {
      "image/png": "[encoded data removed]",
      "text/plain": [
       "<matplotlib.figure.Figure at 0x7f0ac8a46ba8>"
      ]
     },
     "metadata": {},
     "output_type": "display_data"
    }
   ],
   "source": [
    "# plot the learning curve \n",
    "fig = plt.figure()\n",
    "ax1 = fig.add_subplot(111)\n",
    "line1, = ax1.plot(mse_test)"
   ]
  },
  {
   "cell_type": "code",
   "execution_count": 514,
   "metadata": {},
   "outputs": [
    {
     "name": "stdout",
     "output_type": "stream",
     "text": [
      "(176,)\n",
      "(176,)\n"
     ]
    },
    {
     "data": {
      "text/plain": [
       "[<matplotlib.lines.Line2D at 0x7f0ab3f42ba8>]"
      ]
     },
     "execution_count": 514,
     "metadata": {},
     "output_type": "execute_result"
    },
    {
     "data": {
      "image/png": "[encoded data removed]",
      "text/plain": [
       "<matplotlib.figure.Figure at 0x7f0ac8a46be0>"
      ]
     },
     "metadata": {},
     "output_type": "display_data"
    }
   ],
   "source": [
    "fig = plt.figure()\n",
    "ax1 = fig.add_subplot(111)\n",
    "y1 = pred[0]\n",
    "y2 = y_test\n",
    "\n",
    "print(y1.shape)\n",
    "print(y2.shape)\n",
    "ax1.plot(y1, c = \"r\")\n",
    "ax1.plot(y2, c = \"b\")"
   ]
  },
  {
   "cell_type": "code",
   "execution_count": 515,
   "metadata": {},
   "outputs": [
    {
     "data": {
      "text/plain": [
       "array([[0.22748302, 0.23325573, 0.2368144 , 0.24436758, 0.237261  ,\n",
       "        0.23191053, 0.21905418, 0.21257177, 0.22826858, 0.23442714,\n",
       "        0.21810316, 0.21482322, 0.20874104, 0.21247719, 0.21230158,\n",
       "        0.20028377, 0.17048463, 0.1600348 , 0.18251148, 0.18042085,\n",
       "        0.18930322, 0.20246147, 0.20005737, 0.18965855, 0.18450995,\n",
       "        0.18732932, 0.19055682, 0.1919214 , 0.20045577, 0.20337863,\n",
       "        0.21381612, 0.21119498, 0.21658128, 0.22269104, 0.22677207,\n",
       "        0.2223472 , 0.2189423 , 0.21734557, 0.2237765 , 0.22485152,\n",
       "        0.22993724, 0.23862338, 0.24694334, 0.24709162, 0.25557056,\n",
       "        0.28428924, 0.29300532, 0.29032144, 0.29105172, 0.2883329 ,\n",
       "        0.27647626, 0.2892419 , 0.29656848, 0.31079373, 0.30563584,\n",
       "        0.30266368, 0.29089588, 0.28475472, 0.29899594, 0.29988745,\n",
       "        0.2970505 , 0.3015031 , 0.31550148, 0.32081938, 0.33590356,\n",
       "        0.35476774, 0.36732683, 0.37074038, 0.38332713, 0.36950135,\n",
       "        0.3665992 , 0.37380403, 0.3741036 , 0.3450986 , 0.3287513 ,\n",
       "        0.29960513, 0.31123543, 0.3387427 , 0.35138756, 0.38178018,\n",
       "        0.39864376, 0.3944745 , 0.40482822, 0.4176213 , 0.41254753,\n",
       "        0.42253375, 0.42121944, 0.41826883, 0.43313012, 0.46302208,\n",
       "        0.49239597, 0.51228267, 0.5094802 , 0.49815363, 0.52400756,\n",
       "        0.5721896 , 0.5744033 , 0.5871887 , 0.61042196, 0.6454209 ,\n",
       "        0.77395606, 0.8124803 , 0.76347566, 0.735848  , 0.8210743 ,\n",
       "        0.879929  , 0.860765  , 0.8535042 , 0.8797836 , 0.9389801 ,\n",
       "        1.0018566 , 0.97781634, 0.9315883 , 0.8670805 , 0.82303053,\n",
       "        0.6856884 , 0.7331314 , 0.6998719 , 0.71550196, 0.75352824,\n",
       "        0.8104896 , 0.758508  , 0.7566352 , 0.6791939 , 0.681876  ,\n",
       "        0.7042143 , 0.71105087, 0.7819442 , 0.7790413 , 0.8199322 ,\n",
       "        0.8934897 , 0.8632438 , 0.77956307, 0.7648392 , 0.7390036 ,\n",
       "        0.7105442 , 0.69948995, 0.73388726, 0.7119226 , 0.7168922 ,\n",
       "        0.5878757 , 0.53152347, 0.5797282 , 0.5909199 , 0.62085927,\n",
       "        0.61189467, 0.55780894, 0.54554456, 0.5656348 , 0.58397794,\n",
       "        0.5627687 , 0.5805885 , 0.602641  , 0.5921233 , 0.53981894,\n",
       "        0.51848274, 0.4799483 , 0.4318635 , 0.44588962, 0.43445465,\n",
       "        0.37135336, 0.34205928, 0.3864854 , 0.40367463, 0.4233757 ,\n",
       "        0.4405282 , 0.42327   , 0.4316413 , 0.44778785, 0.45678943,\n",
       "        0.49860576, 0.5204166 , 0.53965473, 0.55087876, 0.5562298 ,\n",
       "        0.5885298 ]], dtype=float32)"
      ]
     },
     "execution_count": 515,
     "metadata": {},
     "output_type": "execute_result"
    }
   ],
   "source": [
    "pred"
   ]
  },
  {
   "cell_type": "code",
   "execution_count": 516,
   "metadata": {},
   "outputs": [
    {
     "data": {
      "text/plain": [
       "[0.19812955,\n",
       " 0.14071068,\n",
       " 0.0896416,\n",
       " 0.083640985,\n",
       " 0.042545486,\n",
       " 0.0085328715,\n",
       " 0.006750794,\n",
       " 0.0010229864,\n",
       " 0.0007166053,\n",
       " 0.00072896923,\n",
       " 0.00068097,\n",
       " 0.00064325857,\n",
       " 0.0006148285,\n",
       " 0.00067658484,\n",
       " 0.0006639708,\n",
       " 0.00066235964,\n",
       " 0.0006484947,\n",
       " 0.0007036228,\n",
       " 0.00067659933,\n",
       " 0.0006983681,\n",
       " 0.00059190206,\n",
       " 0.00061159156,\n",
       " 0.0006338967,\n",
       " 0.000788848,\n",
       " 0.0007475013,\n",
       " 0.000660013,\n",
       " 0.00064524566,\n",
       " 0.0006269166,\n",
       " 0.0005686292,\n",
       " 0.0007318901]"
      ]
     },
     "execution_count": 516,
     "metadata": {},
     "output_type": "execute_result"
    }
   ],
   "source": [
    "mse_test"
   ]
  },
  {
   "cell_type": "code",
   "execution_count": null,
   "metadata": {},
   "outputs": [],
   "source": []
  }
 ],
 "metadata": {
  "kernelspec": {
   "display_name": "Python 3",
   "language": "python",
   "name": "python3"
  },
  "language_info": {
   "codemirror_mode": {
    "name": "ipython",
    "version": 3
   },
   "file_extension": ".py",
   "mimetype": "text/x-python",
   "name": "python",
   "nbconvert_exporter": "python",
   "pygments_lexer": "ipython3",
   "version": "3.6.4"
  }
 },
 "nbformat": 4,
 "nbformat_minor": 2
}
