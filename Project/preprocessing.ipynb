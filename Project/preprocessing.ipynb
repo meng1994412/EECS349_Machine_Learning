{
 "cells": [
  {
   "cell_type": "code",
   "execution_count": 1,
   "metadata": {},
   "outputs": [],
   "source": [
    "import pandas as pd\n",
    "import numpy as np\n",
    "import matplotlib.pyplot as plt\n",
    "from pandas import Series, DataFrame, Panel\n",
    "from sklearn import preprocessing\n",
    "pd.set_option('display.max_rows',15)"
   ]
  },
  {
   "cell_type": "code",
   "execution_count": 2,
   "metadata": {},
   "outputs": [
    {
     "name": "stdout",
     "output_type": "stream",
     "text": [
      "Populating the interactive namespace from numpy and matplotlib\n"
     ]
    }
   ],
   "source": [
    "%pylab inline"
   ]
  },
  {
   "cell_type": "code",
   "execution_count": 3,
   "metadata": {},
   "outputs": [
    {
     "name": "stdout",
     "output_type": "stream",
     "text": [
      "Populating the interactive namespace from numpy and matplotlib\n"
     ]
    }
   ],
   "source": [
    "%pylab inline"
   ]
  },
  {
   "cell_type": "code",
   "execution_count": 4,
   "metadata": {},
   "outputs": [
    {
     "data": {
      "text/plain": [
       "'0.22.0'"
      ]
     },
     "execution_count": 4,
     "metadata": {},
     "output_type": "execute_result"
    }
   ],
   "source": [
    "pd.__version__"
   ]
  },
  {
   "cell_type": "code",
   "execution_count": 6,
   "metadata": {},
   "outputs": [],
   "source": [
    "bitcoin = pd.read_csv ('./bitcoin_price.csv', parse_dates = True, index_col = [0])"
   ]
  },
  {
   "cell_type": "code",
   "execution_count": 7,
   "metadata": {},
   "outputs": [
    {
     "data": {
      "text/html": [
       "<div>\n",
       "<style scoped>\n",
       "    .dataframe tbody tr th:only-of-type {\n",
       "        vertical-align: middle;\n",
       "    }\n",
       "\n",
       "    .dataframe tbody tr th {\n",
       "        vertical-align: top;\n",
       "    }\n",
       "\n",
       "    .dataframe thead th {\n",
       "        text-align: right;\n",
       "    }\n",
       "</style>\n",
       "<table border=\"1\" class=\"dataframe\">\n",
       "  <thead>\n",
       "    <tr style=\"text-align: right;\">\n",
       "      <th></th>\n",
       "      <th>Open</th>\n",
       "      <th>High</th>\n",
       "      <th>Low</th>\n",
       "      <th>Close</th>\n",
       "      <th>Volume</th>\n",
       "      <th>Market Cap</th>\n",
       "    </tr>\n",
       "    <tr>\n",
       "      <th>Date</th>\n",
       "      <th></th>\n",
       "      <th></th>\n",
       "      <th></th>\n",
       "      <th></th>\n",
       "      <th></th>\n",
       "      <th></th>\n",
       "    </tr>\n",
       "  </thead>\n",
       "  <tbody>\n",
       "    <tr>\n",
       "      <th>2018-02-20</th>\n",
       "      <td>11231.80</td>\n",
       "      <td>11958.50</td>\n",
       "      <td>11231.80</td>\n",
       "      <td>11403.70</td>\n",
       "      <td>9,926,540,000</td>\n",
       "      <td>189,536,000,000</td>\n",
       "    </tr>\n",
       "    <tr>\n",
       "      <th>2018-02-19</th>\n",
       "      <td>10552.60</td>\n",
       "      <td>11273.80</td>\n",
       "      <td>10513.20</td>\n",
       "      <td>11225.30</td>\n",
       "      <td>7,652,090,000</td>\n",
       "      <td>178,055,000,000</td>\n",
       "    </tr>\n",
       "    <tr>\n",
       "      <th>2018-02-18</th>\n",
       "      <td>11123.40</td>\n",
       "      <td>11349.80</td>\n",
       "      <td>10326.00</td>\n",
       "      <td>10551.80</td>\n",
       "      <td>8,744,010,000</td>\n",
       "      <td>187,663,000,000</td>\n",
       "    </tr>\n",
       "    <tr>\n",
       "      <th>2018-02-17</th>\n",
       "      <td>10207.50</td>\n",
       "      <td>11139.50</td>\n",
       "      <td>10149.40</td>\n",
       "      <td>11112.70</td>\n",
       "      <td>8,660,880,000</td>\n",
       "      <td>172,191,000,000</td>\n",
       "    </tr>\n",
       "    <tr>\n",
       "      <th>2018-02-16</th>\n",
       "      <td>10135.70</td>\n",
       "      <td>10324.10</td>\n",
       "      <td>9824.82</td>\n",
       "      <td>10233.90</td>\n",
       "      <td>7,296,160,000</td>\n",
       "      <td>170,960,000,000</td>\n",
       "    </tr>\n",
       "    <tr>\n",
       "      <th>2018-02-15</th>\n",
       "      <td>9488.32</td>\n",
       "      <td>10234.80</td>\n",
       "      <td>9395.58</td>\n",
       "      <td>10166.40</td>\n",
       "      <td>9,062,540,000</td>\n",
       "      <td>160,025,000,000</td>\n",
       "    </tr>\n",
       "    <tr>\n",
       "      <th>2018-02-14</th>\n",
       "      <td>8599.92</td>\n",
       "      <td>9518.54</td>\n",
       "      <td>8599.92</td>\n",
       "      <td>9494.63</td>\n",
       "      <td>7,909,820,000</td>\n",
       "      <td>145,023,000,000</td>\n",
       "    </tr>\n",
       "    <tr>\n",
       "      <th>...</th>\n",
       "      <td>...</td>\n",
       "      <td>...</td>\n",
       "      <td>...</td>\n",
       "      <td>...</td>\n",
       "      <td>...</td>\n",
       "      <td>...</td>\n",
       "    </tr>\n",
       "    <tr>\n",
       "      <th>2013-05-04</th>\n",
       "      <td>98.10</td>\n",
       "      <td>115.00</td>\n",
       "      <td>92.50</td>\n",
       "      <td>112.50</td>\n",
       "      <td>-</td>\n",
       "      <td>1,089,890,000</td>\n",
       "    </tr>\n",
       "    <tr>\n",
       "      <th>2013-05-03</th>\n",
       "      <td>106.25</td>\n",
       "      <td>108.13</td>\n",
       "      <td>79.10</td>\n",
       "      <td>97.75</td>\n",
       "      <td>-</td>\n",
       "      <td>1,180,070,000</td>\n",
       "    </tr>\n",
       "    <tr>\n",
       "      <th>2013-05-02</th>\n",
       "      <td>116.38</td>\n",
       "      <td>125.60</td>\n",
       "      <td>92.28</td>\n",
       "      <td>105.21</td>\n",
       "      <td>-</td>\n",
       "      <td>1,292,190,000</td>\n",
       "    </tr>\n",
       "    <tr>\n",
       "      <th>2013-05-01</th>\n",
       "      <td>139.00</td>\n",
       "      <td>139.89</td>\n",
       "      <td>107.72</td>\n",
       "      <td>116.99</td>\n",
       "      <td>-</td>\n",
       "      <td>1,542,820,000</td>\n",
       "    </tr>\n",
       "    <tr>\n",
       "      <th>2013-04-30</th>\n",
       "      <td>144.00</td>\n",
       "      <td>146.93</td>\n",
       "      <td>134.05</td>\n",
       "      <td>139.00</td>\n",
       "      <td>-</td>\n",
       "      <td>1,597,780,000</td>\n",
       "    </tr>\n",
       "    <tr>\n",
       "      <th>2013-04-29</th>\n",
       "      <td>134.44</td>\n",
       "      <td>147.49</td>\n",
       "      <td>134.00</td>\n",
       "      <td>144.54</td>\n",
       "      <td>-</td>\n",
       "      <td>1,491,160,000</td>\n",
       "    </tr>\n",
       "    <tr>\n",
       "      <th>2013-04-28</th>\n",
       "      <td>135.30</td>\n",
       "      <td>135.98</td>\n",
       "      <td>132.10</td>\n",
       "      <td>134.21</td>\n",
       "      <td>-</td>\n",
       "      <td>1,500,520,000</td>\n",
       "    </tr>\n",
       "  </tbody>\n",
       "</table>\n",
       "<p>1760 rows × 6 columns</p>\n",
       "</div>"
      ],
      "text/plain": [
       "                Open      High       Low     Close         Volume  \\\n",
       "Date                                                                \n",
       "2018-02-20  11231.80  11958.50  11231.80  11403.70  9,926,540,000   \n",
       "2018-02-19  10552.60  11273.80  10513.20  11225.30  7,652,090,000   \n",
       "2018-02-18  11123.40  11349.80  10326.00  10551.80  8,744,010,000   \n",
       "2018-02-17  10207.50  11139.50  10149.40  11112.70  8,660,880,000   \n",
       "2018-02-16  10135.70  10324.10   9824.82  10233.90  7,296,160,000   \n",
       "2018-02-15   9488.32  10234.80   9395.58  10166.40  9,062,540,000   \n",
       "2018-02-14   8599.92   9518.54   8599.92   9494.63  7,909,820,000   \n",
       "...              ...       ...       ...       ...            ...   \n",
       "2013-05-04     98.10    115.00     92.50    112.50              -   \n",
       "2013-05-03    106.25    108.13     79.10     97.75              -   \n",
       "2013-05-02    116.38    125.60     92.28    105.21              -   \n",
       "2013-05-01    139.00    139.89    107.72    116.99              -   \n",
       "2013-04-30    144.00    146.93    134.05    139.00              -   \n",
       "2013-04-29    134.44    147.49    134.00    144.54              -   \n",
       "2013-04-28    135.30    135.98    132.10    134.21              -   \n",
       "\n",
       "                 Market Cap  \n",
       "Date                         \n",
       "2018-02-20  189,536,000,000  \n",
       "2018-02-19  178,055,000,000  \n",
       "2018-02-18  187,663,000,000  \n",
       "2018-02-17  172,191,000,000  \n",
       "2018-02-16  170,960,000,000  \n",
       "2018-02-15  160,025,000,000  \n",
       "2018-02-14  145,023,000,000  \n",
       "...                     ...  \n",
       "2013-05-04    1,089,890,000  \n",
       "2013-05-03    1,180,070,000  \n",
       "2013-05-02    1,292,190,000  \n",
       "2013-05-01    1,542,820,000  \n",
       "2013-04-30    1,597,780,000  \n",
       "2013-04-29    1,491,160,000  \n",
       "2013-04-28    1,500,520,000  \n",
       "\n",
       "[1760 rows x 6 columns]"
      ]
     },
     "execution_count": 7,
     "metadata": {},
     "output_type": "execute_result"
    }
   ],
   "source": [
    "bitcoin"
   ]
  },
  {
   "cell_type": "code",
   "execution_count": 8,
   "metadata": {},
   "outputs": [],
   "source": [
    "bitcoin = bitcoin.sort_index(ascending = True)"
   ]
  },
  {
   "cell_type": "code",
   "execution_count": 9,
   "metadata": {},
   "outputs": [
    {
     "data": {
      "text/html": [
       "<div>\n",
       "<style scoped>\n",
       "    .dataframe tbody tr th:only-of-type {\n",
       "        vertical-align: middle;\n",
       "    }\n",
       "\n",
       "    .dataframe tbody tr th {\n",
       "        vertical-align: top;\n",
       "    }\n",
       "\n",
       "    .dataframe thead th {\n",
       "        text-align: right;\n",
       "    }\n",
       "</style>\n",
       "<table border=\"1\" class=\"dataframe\">\n",
       "  <thead>\n",
       "    <tr style=\"text-align: right;\">\n",
       "      <th></th>\n",
       "      <th>Open</th>\n",
       "      <th>High</th>\n",
       "      <th>Low</th>\n",
       "      <th>Close</th>\n",
       "      <th>Volume</th>\n",
       "      <th>Market Cap</th>\n",
       "    </tr>\n",
       "    <tr>\n",
       "      <th>Date</th>\n",
       "      <th></th>\n",
       "      <th></th>\n",
       "      <th></th>\n",
       "      <th></th>\n",
       "      <th></th>\n",
       "      <th></th>\n",
       "    </tr>\n",
       "  </thead>\n",
       "  <tbody>\n",
       "    <tr>\n",
       "      <th>2013-04-28</th>\n",
       "      <td>135.30</td>\n",
       "      <td>135.98</td>\n",
       "      <td>132.10</td>\n",
       "      <td>134.21</td>\n",
       "      <td>-</td>\n",
       "      <td>1,500,520,000</td>\n",
       "    </tr>\n",
       "    <tr>\n",
       "      <th>2013-04-29</th>\n",
       "      <td>134.44</td>\n",
       "      <td>147.49</td>\n",
       "      <td>134.00</td>\n",
       "      <td>144.54</td>\n",
       "      <td>-</td>\n",
       "      <td>1,491,160,000</td>\n",
       "    </tr>\n",
       "    <tr>\n",
       "      <th>2013-04-30</th>\n",
       "      <td>144.00</td>\n",
       "      <td>146.93</td>\n",
       "      <td>134.05</td>\n",
       "      <td>139.00</td>\n",
       "      <td>-</td>\n",
       "      <td>1,597,780,000</td>\n",
       "    </tr>\n",
       "    <tr>\n",
       "      <th>2013-05-01</th>\n",
       "      <td>139.00</td>\n",
       "      <td>139.89</td>\n",
       "      <td>107.72</td>\n",
       "      <td>116.99</td>\n",
       "      <td>-</td>\n",
       "      <td>1,542,820,000</td>\n",
       "    </tr>\n",
       "    <tr>\n",
       "      <th>2013-05-02</th>\n",
       "      <td>116.38</td>\n",
       "      <td>125.60</td>\n",
       "      <td>92.28</td>\n",
       "      <td>105.21</td>\n",
       "      <td>-</td>\n",
       "      <td>1,292,190,000</td>\n",
       "    </tr>\n",
       "    <tr>\n",
       "      <th>2013-05-03</th>\n",
       "      <td>106.25</td>\n",
       "      <td>108.13</td>\n",
       "      <td>79.10</td>\n",
       "      <td>97.75</td>\n",
       "      <td>-</td>\n",
       "      <td>1,180,070,000</td>\n",
       "    </tr>\n",
       "    <tr>\n",
       "      <th>2013-05-04</th>\n",
       "      <td>98.10</td>\n",
       "      <td>115.00</td>\n",
       "      <td>92.50</td>\n",
       "      <td>112.50</td>\n",
       "      <td>-</td>\n",
       "      <td>1,089,890,000</td>\n",
       "    </tr>\n",
       "    <tr>\n",
       "      <th>...</th>\n",
       "      <td>...</td>\n",
       "      <td>...</td>\n",
       "      <td>...</td>\n",
       "      <td>...</td>\n",
       "      <td>...</td>\n",
       "      <td>...</td>\n",
       "    </tr>\n",
       "    <tr>\n",
       "      <th>2018-02-14</th>\n",
       "      <td>8599.92</td>\n",
       "      <td>9518.54</td>\n",
       "      <td>8599.92</td>\n",
       "      <td>9494.63</td>\n",
       "      <td>7,909,820,000</td>\n",
       "      <td>145,023,000,000</td>\n",
       "    </tr>\n",
       "    <tr>\n",
       "      <th>2018-02-15</th>\n",
       "      <td>9488.32</td>\n",
       "      <td>10234.80</td>\n",
       "      <td>9395.58</td>\n",
       "      <td>10166.40</td>\n",
       "      <td>9,062,540,000</td>\n",
       "      <td>160,025,000,000</td>\n",
       "    </tr>\n",
       "    <tr>\n",
       "      <th>2018-02-16</th>\n",
       "      <td>10135.70</td>\n",
       "      <td>10324.10</td>\n",
       "      <td>9824.82</td>\n",
       "      <td>10233.90</td>\n",
       "      <td>7,296,160,000</td>\n",
       "      <td>170,960,000,000</td>\n",
       "    </tr>\n",
       "    <tr>\n",
       "      <th>2018-02-17</th>\n",
       "      <td>10207.50</td>\n",
       "      <td>11139.50</td>\n",
       "      <td>10149.40</td>\n",
       "      <td>11112.70</td>\n",
       "      <td>8,660,880,000</td>\n",
       "      <td>172,191,000,000</td>\n",
       "    </tr>\n",
       "    <tr>\n",
       "      <th>2018-02-18</th>\n",
       "      <td>11123.40</td>\n",
       "      <td>11349.80</td>\n",
       "      <td>10326.00</td>\n",
       "      <td>10551.80</td>\n",
       "      <td>8,744,010,000</td>\n",
       "      <td>187,663,000,000</td>\n",
       "    </tr>\n",
       "    <tr>\n",
       "      <th>2018-02-19</th>\n",
       "      <td>10552.60</td>\n",
       "      <td>11273.80</td>\n",
       "      <td>10513.20</td>\n",
       "      <td>11225.30</td>\n",
       "      <td>7,652,090,000</td>\n",
       "      <td>178,055,000,000</td>\n",
       "    </tr>\n",
       "    <tr>\n",
       "      <th>2018-02-20</th>\n",
       "      <td>11231.80</td>\n",
       "      <td>11958.50</td>\n",
       "      <td>11231.80</td>\n",
       "      <td>11403.70</td>\n",
       "      <td>9,926,540,000</td>\n",
       "      <td>189,536,000,000</td>\n",
       "    </tr>\n",
       "  </tbody>\n",
       "</table>\n",
       "<p>1760 rows × 6 columns</p>\n",
       "</div>"
      ],
      "text/plain": [
       "                Open      High       Low     Close         Volume  \\\n",
       "Date                                                                \n",
       "2013-04-28    135.30    135.98    132.10    134.21              -   \n",
       "2013-04-29    134.44    147.49    134.00    144.54              -   \n",
       "2013-04-30    144.00    146.93    134.05    139.00              -   \n",
       "2013-05-01    139.00    139.89    107.72    116.99              -   \n",
       "2013-05-02    116.38    125.60     92.28    105.21              -   \n",
       "2013-05-03    106.25    108.13     79.10     97.75              -   \n",
       "2013-05-04     98.10    115.00     92.50    112.50              -   \n",
       "...              ...       ...       ...       ...            ...   \n",
       "2018-02-14   8599.92   9518.54   8599.92   9494.63  7,909,820,000   \n",
       "2018-02-15   9488.32  10234.80   9395.58  10166.40  9,062,540,000   \n",
       "2018-02-16  10135.70  10324.10   9824.82  10233.90  7,296,160,000   \n",
       "2018-02-17  10207.50  11139.50  10149.40  11112.70  8,660,880,000   \n",
       "2018-02-18  11123.40  11349.80  10326.00  10551.80  8,744,010,000   \n",
       "2018-02-19  10552.60  11273.80  10513.20  11225.30  7,652,090,000   \n",
       "2018-02-20  11231.80  11958.50  11231.80  11403.70  9,926,540,000   \n",
       "\n",
       "                 Market Cap  \n",
       "Date                         \n",
       "2013-04-28    1,500,520,000  \n",
       "2013-04-29    1,491,160,000  \n",
       "2013-04-30    1,597,780,000  \n",
       "2013-05-01    1,542,820,000  \n",
       "2013-05-02    1,292,190,000  \n",
       "2013-05-03    1,180,070,000  \n",
       "2013-05-04    1,089,890,000  \n",
       "...                     ...  \n",
       "2018-02-14  145,023,000,000  \n",
       "2018-02-15  160,025,000,000  \n",
       "2018-02-16  170,960,000,000  \n",
       "2018-02-17  172,191,000,000  \n",
       "2018-02-18  187,663,000,000  \n",
       "2018-02-19  178,055,000,000  \n",
       "2018-02-20  189,536,000,000  \n",
       "\n",
       "[1760 rows x 6 columns]"
      ]
     },
     "execution_count": 9,
     "metadata": {},
     "output_type": "execute_result"
    }
   ],
   "source": [
    "bitcoin"
   ]
  },
  {
   "cell_type": "code",
   "execution_count": 10,
   "metadata": {},
   "outputs": [
    {
     "data": {
      "text/plain": [
       "(1760, 6)"
      ]
     },
     "execution_count": 10,
     "metadata": {},
     "output_type": "execute_result"
    }
   ],
   "source": [
    "bitcoin.shape"
   ]
  },
  {
   "cell_type": "code",
   "execution_count": 11,
   "metadata": {},
   "outputs": [],
   "source": [
    "bitClose = bitcoin['Close']"
   ]
  },
  {
   "cell_type": "code",
   "execution_count": 12,
   "metadata": {},
   "outputs": [
    {
     "data": {
      "text/html": [
       "<div>\n",
       "<style scoped>\n",
       "    .dataframe tbody tr th:only-of-type {\n",
       "        vertical-align: middle;\n",
       "    }\n",
       "\n",
       "    .dataframe tbody tr th {\n",
       "        vertical-align: top;\n",
       "    }\n",
       "\n",
       "    .dataframe thead th {\n",
       "        text-align: right;\n",
       "    }\n",
       "</style>\n",
       "<table border=\"1\" class=\"dataframe\">\n",
       "  <thead>\n",
       "    <tr style=\"text-align: right;\">\n",
       "      <th></th>\n",
       "      <th>Close</th>\n",
       "    </tr>\n",
       "    <tr>\n",
       "      <th>Date</th>\n",
       "      <th></th>\n",
       "    </tr>\n",
       "  </thead>\n",
       "  <tbody>\n",
       "    <tr>\n",
       "      <th>2013-04-28</th>\n",
       "      <td>134.21</td>\n",
       "    </tr>\n",
       "    <tr>\n",
       "      <th>2013-04-29</th>\n",
       "      <td>144.54</td>\n",
       "    </tr>\n",
       "    <tr>\n",
       "      <th>2013-04-30</th>\n",
       "      <td>139.00</td>\n",
       "    </tr>\n",
       "    <tr>\n",
       "      <th>2013-05-01</th>\n",
       "      <td>116.99</td>\n",
       "    </tr>\n",
       "    <tr>\n",
       "      <th>2013-05-02</th>\n",
       "      <td>105.21</td>\n",
       "    </tr>\n",
       "    <tr>\n",
       "      <th>2013-05-03</th>\n",
       "      <td>97.75</td>\n",
       "    </tr>\n",
       "    <tr>\n",
       "      <th>2013-05-04</th>\n",
       "      <td>112.50</td>\n",
       "    </tr>\n",
       "    <tr>\n",
       "      <th>...</th>\n",
       "      <td>...</td>\n",
       "    </tr>\n",
       "    <tr>\n",
       "      <th>2018-02-14</th>\n",
       "      <td>9494.63</td>\n",
       "    </tr>\n",
       "    <tr>\n",
       "      <th>2018-02-15</th>\n",
       "      <td>10166.40</td>\n",
       "    </tr>\n",
       "    <tr>\n",
       "      <th>2018-02-16</th>\n",
       "      <td>10233.90</td>\n",
       "    </tr>\n",
       "    <tr>\n",
       "      <th>2018-02-17</th>\n",
       "      <td>11112.70</td>\n",
       "    </tr>\n",
       "    <tr>\n",
       "      <th>2018-02-18</th>\n",
       "      <td>10551.80</td>\n",
       "    </tr>\n",
       "    <tr>\n",
       "      <th>2018-02-19</th>\n",
       "      <td>11225.30</td>\n",
       "    </tr>\n",
       "    <tr>\n",
       "      <th>2018-02-20</th>\n",
       "      <td>11403.70</td>\n",
       "    </tr>\n",
       "  </tbody>\n",
       "</table>\n",
       "<p>1760 rows × 1 columns</p>\n",
       "</div>"
      ],
      "text/plain": [
       "               Close\n",
       "Date                \n",
       "2013-04-28    134.21\n",
       "2013-04-29    144.54\n",
       "2013-04-30    139.00\n",
       "2013-05-01    116.99\n",
       "2013-05-02    105.21\n",
       "2013-05-03     97.75\n",
       "2013-05-04    112.50\n",
       "...              ...\n",
       "2018-02-14   9494.63\n",
       "2018-02-15  10166.40\n",
       "2018-02-16  10233.90\n",
       "2018-02-17  11112.70\n",
       "2018-02-18  10551.80\n",
       "2018-02-19  11225.30\n",
       "2018-02-20  11403.70\n",
       "\n",
       "[1760 rows x 1 columns]"
      ]
     },
     "execution_count": 12,
     "metadata": {},
     "output_type": "execute_result"
    }
   ],
   "source": [
    "bitClose = pd.DataFrame(bitClose)\n",
    "bitClose"
   ]
  },
  {
   "cell_type": "code",
   "execution_count": 13,
   "metadata": {},
   "outputs": [
    {
     "data": {
      "text/plain": [
       "Text(0.5,1,'Close Price')"
      ]
     },
     "execution_count": 13,
     "metadata": {},
     "output_type": "execute_result"
    },
    {
     "data": {
      "image/png": "[encoded data removed]",
      "text/plain": [
       "<matplotlib.figure.Figure at 0x7f80c48ea320>"
      ]
     },
     "metadata": {},
     "output_type": "display_data"
    }
   ],
   "source": [
    "plt.figure(figsize = (10, 5))\n",
    "plt.plot(bitClose)\n",
    "plt.xlabel('Years')\n",
    "plt.ylabel('Price(USD)')\n",
    "plt.title('Close Price')"
   ]
  },
  {
   "cell_type": "code",
   "execution_count": 14,
   "metadata": {},
   "outputs": [],
   "source": [
    "rolMean = bitClose.rolling(window = 7).mean()\n",
    "rolVar = bitClose.rolling(window = 7).std()"
   ]
  },
  {
   "cell_type": "code",
   "execution_count": 15,
   "metadata": {},
   "outputs": [
    {
     "data": {
      "image/png": "[encoded data removed]",
      "text/plain": [
       "<matplotlib.figure.Figure at 0x7f80c48ea908>"
      ]
     },
     "metadata": {},
     "output_type": "display_data"
    }
   ],
   "source": [
    "plt.figure(figsize=(12,6))\n",
    "plt.plot(bitClose, label = 'Original')\n",
    "plt.plot(rolMean,label = 'Rolling Mean')\n",
    "plt.plot(rolVar, label = 'Rolling Standard Variance')\n",
    "plt.legend(loc = 'best')\n",
    "plt.title('Rolling mean & Standard Variance')\n",
    "plt.xlabel('Years')\n",
    "plt.ylabel('Price(USD)')\n",
    "plt.show()"
   ]
  },
  {
   "cell_type": "code",
   "execution_count": 16,
   "metadata": {},
   "outputs": [],
   "source": [
    "UpperBand = rolMean + rolVar * 2\n",
    "LowerBand = rolMean - rolVar * 2"
   ]
  },
  {
   "cell_type": "code",
   "execution_count": 17,
   "metadata": {},
   "outputs": [
    {
     "data": {
      "image/png": "[encoded data removed]",
      "text/plain": [
       "<matplotlib.figure.Figure at 0x7f80f53b8b38>"
      ]
     },
     "metadata": {},
     "output_type": "display_data"
    }
   ],
   "source": [
    "plt.figure(figsize=(20,8))\n",
    "plt.plot(bitClose, label='Close',linewidth=1.0)\n",
    "plt.plot(rolMean,label='7 Day MA',linewidth=1.0)\n",
    "plt.plot(UpperBand,label='Upper Band',linewidth=1.0)\n",
    "plt.plot(LowerBand,label='Lower Band',linewidth=1.0)\n",
    "plt.legend(loc='best')\n",
    "plt.title('7 Day Bollinger Band for Bitcoin')\n",
    "plt.ylabel('Price(USD)')\n",
    "plt.xlabel('Date')\n",
    "plt.show()"
   ]
  },
  {
   "cell_type": "code",
   "execution_count": 18,
   "metadata": {},
   "outputs": [
    {
     "data": {
      "text/html": [
       "<div>\n",
       "<style scoped>\n",
       "    .dataframe tbody tr th:only-of-type {\n",
       "        vertical-align: middle;\n",
       "    }\n",
       "\n",
       "    .dataframe tbody tr th {\n",
       "        vertical-align: top;\n",
       "    }\n",
       "\n",
       "    .dataframe thead th {\n",
       "        text-align: right;\n",
       "    }\n",
       "</style>\n",
       "<table border=\"1\" class=\"dataframe\">\n",
       "  <thead>\n",
       "    <tr style=\"text-align: right;\">\n",
       "      <th></th>\n",
       "      <th>Close</th>\n",
       "    </tr>\n",
       "    <tr>\n",
       "      <th>Date</th>\n",
       "      <th></th>\n",
       "    </tr>\n",
       "  </thead>\n",
       "  <tbody>\n",
       "    <tr>\n",
       "      <th>2013-04-28</th>\n",
       "      <td>134.21</td>\n",
       "    </tr>\n",
       "    <tr>\n",
       "      <th>2013-04-29</th>\n",
       "      <td>144.54</td>\n",
       "    </tr>\n",
       "    <tr>\n",
       "      <th>2013-04-30</th>\n",
       "      <td>139.00</td>\n",
       "    </tr>\n",
       "    <tr>\n",
       "      <th>2013-05-01</th>\n",
       "      <td>116.99</td>\n",
       "    </tr>\n",
       "    <tr>\n",
       "      <th>2013-05-02</th>\n",
       "      <td>105.21</td>\n",
       "    </tr>\n",
       "    <tr>\n",
       "      <th>2013-05-03</th>\n",
       "      <td>97.75</td>\n",
       "    </tr>\n",
       "    <tr>\n",
       "      <th>2013-05-04</th>\n",
       "      <td>112.50</td>\n",
       "    </tr>\n",
       "    <tr>\n",
       "      <th>...</th>\n",
       "      <td>...</td>\n",
       "    </tr>\n",
       "    <tr>\n",
       "      <th>2018-02-14</th>\n",
       "      <td>9494.63</td>\n",
       "    </tr>\n",
       "    <tr>\n",
       "      <th>2018-02-15</th>\n",
       "      <td>10166.40</td>\n",
       "    </tr>\n",
       "    <tr>\n",
       "      <th>2018-02-16</th>\n",
       "      <td>10233.90</td>\n",
       "    </tr>\n",
       "    <tr>\n",
       "      <th>2018-02-17</th>\n",
       "      <td>11112.70</td>\n",
       "    </tr>\n",
       "    <tr>\n",
       "      <th>2018-02-18</th>\n",
       "      <td>10551.80</td>\n",
       "    </tr>\n",
       "    <tr>\n",
       "      <th>2018-02-19</th>\n",
       "      <td>11225.30</td>\n",
       "    </tr>\n",
       "    <tr>\n",
       "      <th>2018-02-20</th>\n",
       "      <td>11403.70</td>\n",
       "    </tr>\n",
       "  </tbody>\n",
       "</table>\n",
       "<p>1760 rows × 1 columns</p>\n",
       "</div>"
      ],
      "text/plain": [
       "               Close\n",
       "Date                \n",
       "2013-04-28    134.21\n",
       "2013-04-29    144.54\n",
       "2013-04-30    139.00\n",
       "2013-05-01    116.99\n",
       "2013-05-02    105.21\n",
       "2013-05-03     97.75\n",
       "2013-05-04    112.50\n",
       "...              ...\n",
       "2018-02-14   9494.63\n",
       "2018-02-15  10166.40\n",
       "2018-02-16  10233.90\n",
       "2018-02-17  11112.70\n",
       "2018-02-18  10551.80\n",
       "2018-02-19  11225.30\n",
       "2018-02-20  11403.70\n",
       "\n",
       "[1760 rows x 1 columns]"
      ]
     },
     "execution_count": 18,
     "metadata": {},
     "output_type": "execute_result"
    }
   ],
   "source": [
    "bitClose"
   ]
  },
  {
   "cell_type": "code",
   "execution_count": 19,
   "metadata": {},
   "outputs": [],
   "source": [
    "X_scaled=preprocessing.scale(bitClose)"
   ]
  },
  {
   "cell_type": "code",
   "execution_count": 20,
   "metadata": {},
   "outputs": [
    {
     "data": {
      "text/plain": [
       "array([[-0.45684347],\n",
       "       [-0.45335175],\n",
       "       [-0.45522437],\n",
       "       ...,\n",
       "       [ 3.06448669],\n",
       "       [ 3.29214164],\n",
       "       [ 3.352444  ]])"
      ]
     },
     "execution_count": 20,
     "metadata": {},
     "output_type": "execute_result"
    }
   ],
   "source": [
    "X_scaled"
   ]
  },
  {
   "cell_type": "code",
   "execution_count": 21,
   "metadata": {},
   "outputs": [
    {
     "name": "stderr",
     "output_type": "stream",
     "text": [
      "/home/sunny/.conda/envs/py3env/lib/python3.6/site-packages/h5py/__init__.py:36: FutureWarning: Conversion of the second argument of issubdtype from `float` to `np.floating` is deprecated. In future, it will be treated as `np.float64 == np.dtype(float).type`.\n",
      "  from ._conv import register_converters as _register_converters\n"
     ]
    }
   ],
   "source": [
    "import tensorflow as tf"
   ]
  },
  {
   "cell_type": "code",
   "execution_count": 22,
   "metadata": {},
   "outputs": [],
   "source": [
    "# -------------Dealing with missing values and comma-in-string situation---------------"
   ]
  },
  {
   "cell_type": "code",
   "execution_count": 23,
   "metadata": {},
   "outputs": [
    {
     "data": {
      "image/png": "[encoded data removed]",
      "text/plain": [
       "<matplotlib.figure.Figure at 0x7f80c48def28>"
      ]
     },
     "metadata": {},
     "output_type": "display_data"
    }
   ],
   "source": [
    "# drop the missing datapoints with '-'\n",
    "bitVol = bitcoin['Volume']\n",
    "bitVol_1 = bitVol[bitVol != \"-\"]\n",
    "bitVol_1 = bitVol_1.apply(lambda x: float(x.replace(',', '')))\n",
    "bitVolNorm_1 = np.log(bitVol_1)\n",
    "\n",
    "# draw the rest Volume part in Bitcoin database\n",
    "plt.figure(figsize = (20, 6))\n",
    "plt.plot(bitVolNorm_1)\n",
    "plt.show()"
   ]
  },
  {
   "cell_type": "code",
   "execution_count": 24,
   "metadata": {},
   "outputs": [
    {
     "data": {
      "text/plain": [
       "Date\n",
       "2013-12-27    17.662733\n",
       "2013-12-28    17.296929\n",
       "2013-12-29    16.760544\n",
       "2013-12-30    16.846016\n",
       "2013-12-31    16.855131\n",
       "2014-01-01    16.928555\n",
       "2014-01-02    17.465896\n",
       "                ...    \n",
       "2018-02-14    22.791371\n",
       "2018-02-15    22.927415\n",
       "2018-02-16    22.710614\n",
       "2018-02-17    22.882082\n",
       "2018-02-18    22.891635\n",
       "2018-02-19    22.758245\n",
       "2018-02-20    23.018478\n",
       "Name: Volume, Length: 1517, dtype: float64"
      ]
     },
     "execution_count": 24,
     "metadata": {},
     "output_type": "execute_result"
    }
   ],
   "source": [
    "bitVolNorm_1"
   ]
  },
  {
   "cell_type": "code",
   "execution_count": 25,
   "metadata": {},
   "outputs": [
    {
     "data": {
      "text/html": [
       "<div>\n",
       "<style scoped>\n",
       "    .dataframe tbody tr th:only-of-type {\n",
       "        vertical-align: middle;\n",
       "    }\n",
       "\n",
       "    .dataframe tbody tr th {\n",
       "        vertical-align: top;\n",
       "    }\n",
       "\n",
       "    .dataframe thead th {\n",
       "        text-align: right;\n",
       "    }\n",
       "</style>\n",
       "<table border=\"1\" class=\"dataframe\">\n",
       "  <thead>\n",
       "    <tr style=\"text-align: right;\">\n",
       "      <th></th>\n",
       "      <th>Volume</th>\n",
       "    </tr>\n",
       "    <tr>\n",
       "      <th>Date</th>\n",
       "      <th></th>\n",
       "    </tr>\n",
       "  </thead>\n",
       "  <tbody>\n",
       "    <tr>\n",
       "      <th>2014-01-01</th>\n",
       "      <td>22489400.0</td>\n",
       "    </tr>\n",
       "    <tr>\n",
       "      <th>2014-01-02</th>\n",
       "      <td>38489500.0</td>\n",
       "    </tr>\n",
       "    <tr>\n",
       "      <th>2014-01-03</th>\n",
       "      <td>37810100.0</td>\n",
       "    </tr>\n",
       "    <tr>\n",
       "      <th>2014-01-04</th>\n",
       "      <td>38005000.0</td>\n",
       "    </tr>\n",
       "    <tr>\n",
       "      <th>2014-01-05</th>\n",
       "      <td>72898500.0</td>\n",
       "    </tr>\n",
       "    <tr>\n",
       "      <th>2014-01-06</th>\n",
       "      <td>85565700.0</td>\n",
       "    </tr>\n",
       "    <tr>\n",
       "      <th>2014-01-07</th>\n",
       "      <td>81311700.0</td>\n",
       "    </tr>\n",
       "    <tr>\n",
       "      <th>...</th>\n",
       "      <td>...</td>\n",
       "    </tr>\n",
       "    <tr>\n",
       "      <th>2014-09-25</th>\n",
       "      <td>26814400.0</td>\n",
       "    </tr>\n",
       "    <tr>\n",
       "      <th>2014-09-26</th>\n",
       "      <td>21460800.0</td>\n",
       "    </tr>\n",
       "    <tr>\n",
       "      <th>2014-09-27</th>\n",
       "      <td>15029300.0</td>\n",
       "    </tr>\n",
       "    <tr>\n",
       "      <th>2014-09-28</th>\n",
       "      <td>23613300.0</td>\n",
       "    </tr>\n",
       "    <tr>\n",
       "      <th>2014-09-29</th>\n",
       "      <td>32497700.0</td>\n",
       "    </tr>\n",
       "    <tr>\n",
       "      <th>2014-09-30</th>\n",
       "      <td>34707300.0</td>\n",
       "    </tr>\n",
       "    <tr>\n",
       "      <th>2014-10-01</th>\n",
       "      <td>26229400.0</td>\n",
       "    </tr>\n",
       "  </tbody>\n",
       "</table>\n",
       "<p>274 rows × 1 columns</p>\n",
       "</div>"
      ],
      "text/plain": [
       "                Volume\n",
       "Date                  \n",
       "2014-01-01  22489400.0\n",
       "2014-01-02  38489500.0\n",
       "2014-01-03  37810100.0\n",
       "2014-01-04  38005000.0\n",
       "2014-01-05  72898500.0\n",
       "2014-01-06  85565700.0\n",
       "2014-01-07  81311700.0\n",
       "...                ...\n",
       "2014-09-25  26814400.0\n",
       "2014-09-26  21460800.0\n",
       "2014-09-27  15029300.0\n",
       "2014-09-28  23613300.0\n",
       "2014-09-29  32497700.0\n",
       "2014-09-30  34707300.0\n",
       "2014-10-01  26229400.0\n",
       "\n",
       "[274 rows x 1 columns]"
      ]
     },
     "execution_count": 25,
     "metadata": {},
     "output_type": "execute_result"
    }
   ],
   "source": [
    "# extract values of 2014-01 to 2014-09\n",
    "bitVol2014 = pd.DataFrame(bitVol_1)\n",
    "bitVol2014 = bitVol2014.loc['2014-01-01':'2014-10-01']\n",
    "bitVol2014"
   ]
  },
  {
   "cell_type": "code",
   "execution_count": 26,
   "metadata": {},
   "outputs": [
    {
     "data": {
      "text/plain": [
       "25801388.321167883"
      ]
     },
     "execution_count": 26,
     "metadata": {},
     "output_type": "execute_result"
    }
   ],
   "source": [
    "# calculate the mean value of the range shown above\n",
    "bitVol2014Mean = bitVol2014['Volume'].mean()\n",
    "bitVol2014Mean"
   ]
  },
  {
   "cell_type": "code",
   "execution_count": 27,
   "metadata": {},
   "outputs": [
    {
     "data": {
      "text/plain": [
       "Date\n",
       "2013-04-28    17.065939\n",
       "2013-04-29    17.065939\n",
       "2013-04-30    17.065939\n",
       "2013-05-01    17.065939\n",
       "2013-05-02    17.065939\n",
       "2013-05-03    17.065939\n",
       "2013-05-04    17.065939\n",
       "                ...    \n",
       "2013-12-20    17.065939\n",
       "2013-12-21    17.065939\n",
       "2013-12-22    17.065939\n",
       "2013-12-23    17.065939\n",
       "2013-12-24    17.065939\n",
       "2013-12-25    17.065939\n",
       "2013-12-26    17.065939\n",
       "Name: Volume, Length: 243, dtype: float64"
      ]
     },
     "execution_count": 27,
     "metadata": {},
     "output_type": "execute_result"
    }
   ],
   "source": [
    "# replace datapoints with value '-' with mean value calculated aboce\n",
    "bitVol_2 = bitVol[bitVol == \"-\"]\n",
    "bitVol_2 = bitVol_2.apply(lambda x: float(x.replace('-', '%f' % (bitVol2014Mean))))\n",
    "bitVolNorm_2 = np.log(bitVol_2)\n",
    "bitVolNorm_2"
   ]
  },
  {
   "cell_type": "code",
   "execution_count": 28,
   "metadata": {},
   "outputs": [],
   "source": [
    "# update the values on original dataset\n",
    "bitVol.update(bitVol_2)"
   ]
  },
  {
   "cell_type": "code",
   "execution_count": 29,
   "metadata": {},
   "outputs": [],
   "source": [
    "# update the values on original dataset\n",
    "bitVol.update(bitVol_1)"
   ]
  },
  {
   "cell_type": "code",
   "execution_count": 30,
   "metadata": {},
   "outputs": [
    {
     "data": {
      "image/png": "[encoded data removed]",
      "text/plain": [
       "<matplotlib.figure.Figure at 0x7f80ba9b0978>"
      ]
     },
     "metadata": {},
     "output_type": "display_data"
    }
   ],
   "source": [
    "# redraw the total dataset for Volume part\n",
    "plt.figure(figsize = (20, 6))\n",
    "plt.plot(bitVol)\n",
    "plt.show()"
   ]
  },
  {
   "cell_type": "code",
   "execution_count": 31,
   "metadata": {},
   "outputs": [
    {
     "data": {
      "text/plain": [
       "pandas.core.series.Series"
      ]
     },
     "execution_count": 31,
     "metadata": {},
     "output_type": "execute_result"
    }
   ],
   "source": [
    "type(bitVol)"
   ]
  },
  {
   "cell_type": "code",
   "execution_count": 32,
   "metadata": {},
   "outputs": [
    {
     "data": {
      "image/png": "[encoded data removed]",
      "text/plain": [
       "<matplotlib.figure.Figure at 0x7f80ba961eb8>"
      ]
     },
     "metadata": {},
     "output_type": "display_data"
    }
   ],
   "source": [
    "# remove the comma in the dataset for Market Cap\n",
    "bitMC = bitcoin['Market Cap'].apply(lambda x: float(x.replace(',', '')))\n",
    "\n",
    "# draw the total dataset for Market Cap part\n",
    "plt.figure(figsize = (20, 6))\n",
    "plt.plot(bitMC)\n",
    "plt.show()"
   ]
  },
  {
   "cell_type": "code",
   "execution_count": 33,
   "metadata": {},
   "outputs": [],
   "source": [
    "bitcoin['Market Cap'].update(bitMC)\n",
    "bitcoin['Volume'].update(bitVol)"
   ]
  },
  {
   "cell_type": "code",
   "execution_count": 34,
   "metadata": {},
   "outputs": [],
   "source": [
    "# ---------------Preparing training and test data--------------------"
   ]
  },
  {
   "cell_type": "code",
   "execution_count": 35,
   "metadata": {},
   "outputs": [
    {
     "data": {
      "text/html": [
       "<div>\n",
       "<style scoped>\n",
       "    .dataframe tbody tr th:only-of-type {\n",
       "        vertical-align: middle;\n",
       "    }\n",
       "\n",
       "    .dataframe tbody tr th {\n",
       "        vertical-align: top;\n",
       "    }\n",
       "\n",
       "    .dataframe thead th {\n",
       "        text-align: right;\n",
       "    }\n",
       "</style>\n",
       "<table border=\"1\" class=\"dataframe\">\n",
       "  <thead>\n",
       "    <tr style=\"text-align: right;\">\n",
       "      <th></th>\n",
       "      <th>Open</th>\n",
       "      <th>High</th>\n",
       "      <th>Low</th>\n",
       "      <th>Close</th>\n",
       "      <th>Volume</th>\n",
       "      <th>Market Cap</th>\n",
       "    </tr>\n",
       "    <tr>\n",
       "      <th>Date</th>\n",
       "      <th></th>\n",
       "      <th></th>\n",
       "      <th></th>\n",
       "      <th></th>\n",
       "      <th></th>\n",
       "      <th></th>\n",
       "    </tr>\n",
       "  </thead>\n",
       "  <tbody>\n",
       "    <tr>\n",
       "      <th>2013-04-28</th>\n",
       "      <td>135.30</td>\n",
       "      <td>135.98</td>\n",
       "      <td>132.10</td>\n",
       "      <td>134.21</td>\n",
       "      <td>2.58014e+07</td>\n",
       "      <td>1.50052e+09</td>\n",
       "    </tr>\n",
       "    <tr>\n",
       "      <th>2013-04-29</th>\n",
       "      <td>134.44</td>\n",
       "      <td>147.49</td>\n",
       "      <td>134.00</td>\n",
       "      <td>144.54</td>\n",
       "      <td>2.58014e+07</td>\n",
       "      <td>1.49116e+09</td>\n",
       "    </tr>\n",
       "    <tr>\n",
       "      <th>2013-04-30</th>\n",
       "      <td>144.00</td>\n",
       "      <td>146.93</td>\n",
       "      <td>134.05</td>\n",
       "      <td>139.00</td>\n",
       "      <td>2.58014e+07</td>\n",
       "      <td>1.59778e+09</td>\n",
       "    </tr>\n",
       "    <tr>\n",
       "      <th>2013-05-01</th>\n",
       "      <td>139.00</td>\n",
       "      <td>139.89</td>\n",
       "      <td>107.72</td>\n",
       "      <td>116.99</td>\n",
       "      <td>2.58014e+07</td>\n",
       "      <td>1.54282e+09</td>\n",
       "    </tr>\n",
       "    <tr>\n",
       "      <th>2013-05-02</th>\n",
       "      <td>116.38</td>\n",
       "      <td>125.60</td>\n",
       "      <td>92.28</td>\n",
       "      <td>105.21</td>\n",
       "      <td>2.58014e+07</td>\n",
       "      <td>1.29219e+09</td>\n",
       "    </tr>\n",
       "    <tr>\n",
       "      <th>2013-05-03</th>\n",
       "      <td>106.25</td>\n",
       "      <td>108.13</td>\n",
       "      <td>79.10</td>\n",
       "      <td>97.75</td>\n",
       "      <td>2.58014e+07</td>\n",
       "      <td>1.18007e+09</td>\n",
       "    </tr>\n",
       "    <tr>\n",
       "      <th>2013-05-04</th>\n",
       "      <td>98.10</td>\n",
       "      <td>115.00</td>\n",
       "      <td>92.50</td>\n",
       "      <td>112.50</td>\n",
       "      <td>2.58014e+07</td>\n",
       "      <td>1.08989e+09</td>\n",
       "    </tr>\n",
       "    <tr>\n",
       "      <th>...</th>\n",
       "      <td>...</td>\n",
       "      <td>...</td>\n",
       "      <td>...</td>\n",
       "      <td>...</td>\n",
       "      <td>...</td>\n",
       "      <td>...</td>\n",
       "    </tr>\n",
       "    <tr>\n",
       "      <th>2018-02-14</th>\n",
       "      <td>8599.92</td>\n",
       "      <td>9518.54</td>\n",
       "      <td>8599.92</td>\n",
       "      <td>9494.63</td>\n",
       "      <td>7.90982e+09</td>\n",
       "      <td>1.45023e+11</td>\n",
       "    </tr>\n",
       "    <tr>\n",
       "      <th>2018-02-15</th>\n",
       "      <td>9488.32</td>\n",
       "      <td>10234.80</td>\n",
       "      <td>9395.58</td>\n",
       "      <td>10166.40</td>\n",
       "      <td>9.06254e+09</td>\n",
       "      <td>1.60025e+11</td>\n",
       "    </tr>\n",
       "    <tr>\n",
       "      <th>2018-02-16</th>\n",
       "      <td>10135.70</td>\n",
       "      <td>10324.10</td>\n",
       "      <td>9824.82</td>\n",
       "      <td>10233.90</td>\n",
       "      <td>7.29616e+09</td>\n",
       "      <td>1.7096e+11</td>\n",
       "    </tr>\n",
       "    <tr>\n",
       "      <th>2018-02-17</th>\n",
       "      <td>10207.50</td>\n",
       "      <td>11139.50</td>\n",
       "      <td>10149.40</td>\n",
       "      <td>11112.70</td>\n",
       "      <td>8.66088e+09</td>\n",
       "      <td>1.72191e+11</td>\n",
       "    </tr>\n",
       "    <tr>\n",
       "      <th>2018-02-18</th>\n",
       "      <td>11123.40</td>\n",
       "      <td>11349.80</td>\n",
       "      <td>10326.00</td>\n",
       "      <td>10551.80</td>\n",
       "      <td>8.74401e+09</td>\n",
       "      <td>1.87663e+11</td>\n",
       "    </tr>\n",
       "    <tr>\n",
       "      <th>2018-02-19</th>\n",
       "      <td>10552.60</td>\n",
       "      <td>11273.80</td>\n",
       "      <td>10513.20</td>\n",
       "      <td>11225.30</td>\n",
       "      <td>7.65209e+09</td>\n",
       "      <td>1.78055e+11</td>\n",
       "    </tr>\n",
       "    <tr>\n",
       "      <th>2018-02-20</th>\n",
       "      <td>11231.80</td>\n",
       "      <td>11958.50</td>\n",
       "      <td>11231.80</td>\n",
       "      <td>11403.70</td>\n",
       "      <td>9.92654e+09</td>\n",
       "      <td>1.89536e+11</td>\n",
       "    </tr>\n",
       "  </tbody>\n",
       "</table>\n",
       "<p>1760 rows × 6 columns</p>\n",
       "</div>"
      ],
      "text/plain": [
       "                Open      High       Low     Close       Volume   Market Cap\n",
       "Date                                                                        \n",
       "2013-04-28    135.30    135.98    132.10    134.21  2.58014e+07  1.50052e+09\n",
       "2013-04-29    134.44    147.49    134.00    144.54  2.58014e+07  1.49116e+09\n",
       "2013-04-30    144.00    146.93    134.05    139.00  2.58014e+07  1.59778e+09\n",
       "2013-05-01    139.00    139.89    107.72    116.99  2.58014e+07  1.54282e+09\n",
       "2013-05-02    116.38    125.60     92.28    105.21  2.58014e+07  1.29219e+09\n",
       "2013-05-03    106.25    108.13     79.10     97.75  2.58014e+07  1.18007e+09\n",
       "2013-05-04     98.10    115.00     92.50    112.50  2.58014e+07  1.08989e+09\n",
       "...              ...       ...       ...       ...          ...          ...\n",
       "2018-02-14   8599.92   9518.54   8599.92   9494.63  7.90982e+09  1.45023e+11\n",
       "2018-02-15   9488.32  10234.80   9395.58  10166.40  9.06254e+09  1.60025e+11\n",
       "2018-02-16  10135.70  10324.10   9824.82  10233.90  7.29616e+09   1.7096e+11\n",
       "2018-02-17  10207.50  11139.50  10149.40  11112.70  8.66088e+09  1.72191e+11\n",
       "2018-02-18  11123.40  11349.80  10326.00  10551.80  8.74401e+09  1.87663e+11\n",
       "2018-02-19  10552.60  11273.80  10513.20  11225.30  7.65209e+09  1.78055e+11\n",
       "2018-02-20  11231.80  11958.50  11231.80  11403.70  9.92654e+09  1.89536e+11\n",
       "\n",
       "[1760 rows x 6 columns]"
      ]
     },
     "execution_count": 35,
     "metadata": {},
     "output_type": "execute_result"
    }
   ],
   "source": [
    "bitcoin"
   ]
  },
  {
   "cell_type": "code",
   "execution_count": 36,
   "metadata": {},
   "outputs": [],
   "source": [
    "# training and test data\n",
    "split = int(0.9 * bitcoin.shape[0])\n",
    "train_data = bitcoin[0 : split]\n",
    "test_data = bitcoin[split:]"
   ]
  },
  {
   "cell_type": "code",
   "execution_count": 37,
   "metadata": {},
   "outputs": [
    {
     "data": {
      "text/html": [
       "<div>\n",
       "<style scoped>\n",
       "    .dataframe tbody tr th:only-of-type {\n",
       "        vertical-align: middle;\n",
       "    }\n",
       "\n",
       "    .dataframe tbody tr th {\n",
       "        vertical-align: top;\n",
       "    }\n",
       "\n",
       "    .dataframe thead th {\n",
       "        text-align: right;\n",
       "    }\n",
       "</style>\n",
       "<table border=\"1\" class=\"dataframe\">\n",
       "  <thead>\n",
       "    <tr style=\"text-align: right;\">\n",
       "      <th></th>\n",
       "      <th>Open</th>\n",
       "      <th>High</th>\n",
       "      <th>Low</th>\n",
       "      <th>Close</th>\n",
       "      <th>Volume</th>\n",
       "      <th>Market Cap</th>\n",
       "    </tr>\n",
       "    <tr>\n",
       "      <th>Date</th>\n",
       "      <th></th>\n",
       "      <th></th>\n",
       "      <th></th>\n",
       "      <th></th>\n",
       "      <th></th>\n",
       "      <th></th>\n",
       "    </tr>\n",
       "  </thead>\n",
       "  <tbody>\n",
       "    <tr>\n",
       "      <th>2017-08-29</th>\n",
       "      <td>4389.21</td>\n",
       "      <td>4625.68</td>\n",
       "      <td>4352.13</td>\n",
       "      <td>4579.02</td>\n",
       "      <td>2.48608e+09</td>\n",
       "      <td>7.25538e+10</td>\n",
       "    </tr>\n",
       "    <tr>\n",
       "      <th>2017-08-30</th>\n",
       "      <td>4570.36</td>\n",
       "      <td>4626.52</td>\n",
       "      <td>4471.41</td>\n",
       "      <td>4565.30</td>\n",
       "      <td>1.93785e+09</td>\n",
       "      <td>7.55566e+10</td>\n",
       "    </tr>\n",
       "    <tr>\n",
       "      <th>2017-08-31</th>\n",
       "      <td>4555.59</td>\n",
       "      <td>4736.05</td>\n",
       "      <td>4549.40</td>\n",
       "      <td>4703.39</td>\n",
       "      <td>1.94493e+09</td>\n",
       "      <td>7.53223e+10</td>\n",
       "    </tr>\n",
       "    <tr>\n",
       "      <th>2017-09-01</th>\n",
       "      <td>4701.76</td>\n",
       "      <td>4892.01</td>\n",
       "      <td>4678.53</td>\n",
       "      <td>4892.01</td>\n",
       "      <td>2.59908e+09</td>\n",
       "      <td>7.77484e+10</td>\n",
       "    </tr>\n",
       "    <tr>\n",
       "      <th>2017-09-02</th>\n",
       "      <td>4901.42</td>\n",
       "      <td>4975.04</td>\n",
       "      <td>4469.24</td>\n",
       "      <td>4578.77</td>\n",
       "      <td>2.72214e+09</td>\n",
       "      <td>8.10606e+10</td>\n",
       "    </tr>\n",
       "    <tr>\n",
       "      <th>2017-09-03</th>\n",
       "      <td>4585.27</td>\n",
       "      <td>4714.08</td>\n",
       "      <td>4417.59</td>\n",
       "      <td>4582.96</td>\n",
       "      <td>1.93319e+09</td>\n",
       "      <td>7.58417e+10</td>\n",
       "    </tr>\n",
       "    <tr>\n",
       "      <th>2017-09-04</th>\n",
       "      <td>4591.63</td>\n",
       "      <td>4591.63</td>\n",
       "      <td>4108.40</td>\n",
       "      <td>4236.31</td>\n",
       "      <td>2.98733e+09</td>\n",
       "      <td>7.59555e+10</td>\n",
       "    </tr>\n",
       "    <tr>\n",
       "      <th>...</th>\n",
       "      <td>...</td>\n",
       "      <td>...</td>\n",
       "      <td>...</td>\n",
       "      <td>...</td>\n",
       "      <td>...</td>\n",
       "      <td>...</td>\n",
       "    </tr>\n",
       "    <tr>\n",
       "      <th>2018-02-14</th>\n",
       "      <td>8599.92</td>\n",
       "      <td>9518.54</td>\n",
       "      <td>8599.92</td>\n",
       "      <td>9494.63</td>\n",
       "      <td>7.90982e+09</td>\n",
       "      <td>1.45023e+11</td>\n",
       "    </tr>\n",
       "    <tr>\n",
       "      <th>2018-02-15</th>\n",
       "      <td>9488.32</td>\n",
       "      <td>10234.80</td>\n",
       "      <td>9395.58</td>\n",
       "      <td>10166.40</td>\n",
       "      <td>9.06254e+09</td>\n",
       "      <td>1.60025e+11</td>\n",
       "    </tr>\n",
       "    <tr>\n",
       "      <th>2018-02-16</th>\n",
       "      <td>10135.70</td>\n",
       "      <td>10324.10</td>\n",
       "      <td>9824.82</td>\n",
       "      <td>10233.90</td>\n",
       "      <td>7.29616e+09</td>\n",
       "      <td>1.7096e+11</td>\n",
       "    </tr>\n",
       "    <tr>\n",
       "      <th>2018-02-17</th>\n",
       "      <td>10207.50</td>\n",
       "      <td>11139.50</td>\n",
       "      <td>10149.40</td>\n",
       "      <td>11112.70</td>\n",
       "      <td>8.66088e+09</td>\n",
       "      <td>1.72191e+11</td>\n",
       "    </tr>\n",
       "    <tr>\n",
       "      <th>2018-02-18</th>\n",
       "      <td>11123.40</td>\n",
       "      <td>11349.80</td>\n",
       "      <td>10326.00</td>\n",
       "      <td>10551.80</td>\n",
       "      <td>8.74401e+09</td>\n",
       "      <td>1.87663e+11</td>\n",
       "    </tr>\n",
       "    <tr>\n",
       "      <th>2018-02-19</th>\n",
       "      <td>10552.60</td>\n",
       "      <td>11273.80</td>\n",
       "      <td>10513.20</td>\n",
       "      <td>11225.30</td>\n",
       "      <td>7.65209e+09</td>\n",
       "      <td>1.78055e+11</td>\n",
       "    </tr>\n",
       "    <tr>\n",
       "      <th>2018-02-20</th>\n",
       "      <td>11231.80</td>\n",
       "      <td>11958.50</td>\n",
       "      <td>11231.80</td>\n",
       "      <td>11403.70</td>\n",
       "      <td>9.92654e+09</td>\n",
       "      <td>1.89536e+11</td>\n",
       "    </tr>\n",
       "  </tbody>\n",
       "</table>\n",
       "<p>176 rows × 6 columns</p>\n",
       "</div>"
      ],
      "text/plain": [
       "                Open      High       Low     Close       Volume   Market Cap\n",
       "Date                                                                        \n",
       "2017-08-29   4389.21   4625.68   4352.13   4579.02  2.48608e+09  7.25538e+10\n",
       "2017-08-30   4570.36   4626.52   4471.41   4565.30  1.93785e+09  7.55566e+10\n",
       "2017-08-31   4555.59   4736.05   4549.40   4703.39  1.94493e+09  7.53223e+10\n",
       "2017-09-01   4701.76   4892.01   4678.53   4892.01  2.59908e+09  7.77484e+10\n",
       "2017-09-02   4901.42   4975.04   4469.24   4578.77  2.72214e+09  8.10606e+10\n",
       "2017-09-03   4585.27   4714.08   4417.59   4582.96  1.93319e+09  7.58417e+10\n",
       "2017-09-04   4591.63   4591.63   4108.40   4236.31  2.98733e+09  7.59555e+10\n",
       "...              ...       ...       ...       ...          ...          ...\n",
       "2018-02-14   8599.92   9518.54   8599.92   9494.63  7.90982e+09  1.45023e+11\n",
       "2018-02-15   9488.32  10234.80   9395.58  10166.40  9.06254e+09  1.60025e+11\n",
       "2018-02-16  10135.70  10324.10   9824.82  10233.90  7.29616e+09   1.7096e+11\n",
       "2018-02-17  10207.50  11139.50  10149.40  11112.70  8.66088e+09  1.72191e+11\n",
       "2018-02-18  11123.40  11349.80  10326.00  10551.80  8.74401e+09  1.87663e+11\n",
       "2018-02-19  10552.60  11273.80  10513.20  11225.30  7.65209e+09  1.78055e+11\n",
       "2018-02-20  11231.80  11958.50  11231.80  11403.70  9.92654e+09  1.89536e+11\n",
       "\n",
       "[176 rows x 6 columns]"
      ]
     },
     "execution_count": 37,
     "metadata": {},
     "output_type": "execute_result"
    }
   ],
   "source": [
    "test_data"
   ]
  },
  {
   "cell_type": "code",
   "execution_count": 50,
   "metadata": {},
   "outputs": [],
   "source": [
    "# scale data\n",
    "scaler = preprocessing.MinMaxScaler()\n",
    "scaler.fit(train_data)\n",
    "train_data = scaler.transform(train_data)\n",
    "test_data = scaler.transform(test_data)"
   ]
  },
  {
   "cell_type": "code",
   "execution_count": 51,
   "metadata": {},
   "outputs": [
    {
     "data": {
      "text/plain": [
       "array([[0.01547747, 0.013927  , 0.01565705, 0.01524644, 0.00609977,\n",
       "        0.01006108],\n",
       "       [0.01527821, 0.01653689, 0.01610392, 0.01764072, 0.00609977,\n",
       "        0.00993051],\n",
       "       [0.01749325, 0.01640991, 0.01611568, 0.01635666, 0.00609977,\n",
       "        0.01141778],\n",
       "       ...,\n",
       "       [0.99712925, 0.976096  , 0.98876465, 0.99293537, 0.40111643,\n",
       "        0.99694791],\n",
       "       [0.99088266, 0.98455605, 1.        , 1.        , 0.4079889 ,\n",
       "        0.99081166],\n",
       "       [1.        , 0.98168539, 0.97820902, 0.99994901, 0.52014714,\n",
       "        1.        ]])"
      ]
     },
     "execution_count": 51,
     "metadata": {},
     "output_type": "execute_result"
    }
   ],
   "source": [
    "train_data"
   ]
  },
  {
   "cell_type": "code",
   "execution_count": 40,
   "metadata": {},
   "outputs": [
    {
     "data": {
      "text/plain": [
       "(1584, 6)"
      ]
     },
     "execution_count": 40,
     "metadata": {},
     "output_type": "execute_result"
    }
   ],
   "source": [
    "train_data.shape"
   ]
  },
  {
   "cell_type": "code",
   "execution_count": 41,
   "metadata": {},
   "outputs": [
    {
     "data": {
      "text/plain": [
       "array([[1.00110289, 1.03196724, 1.00819425, 1.04546118, 0.66018874,\n",
       "        1.00119824],\n",
       "       [1.04307511, 1.03215771, 1.03624852, 1.04228117, 0.51443647,\n",
       "        1.04308493],\n",
       "       [1.03965292, 1.05699366, 1.05459151, 1.07428757, 0.51631876,\n",
       "        1.03981663],\n",
       "       ...,\n",
       "       [2.56140595, 2.5566626 , 2.41322887, 2.42982767, 2.32392024,\n",
       "        2.6068807 ],\n",
       "       [2.42915233, 2.53942959, 2.4572577 , 2.585931  , 2.0336227 ,\n",
       "        2.47285668],\n",
       "       [2.58652209, 2.69468543, 2.62627006, 2.62728042, 2.63830734,\n",
       "        2.63300757]])"
      ]
     },
     "execution_count": 41,
     "metadata": {},
     "output_type": "execute_result"
    }
   ],
   "source": [
    "test_data"
   ]
  },
  {
   "cell_type": "code",
   "execution_count": 42,
   "metadata": {},
   "outputs": [
    {
     "data": {
      "text/plain": [
       "(176, 6)"
      ]
     },
     "execution_count": 42,
     "metadata": {},
     "output_type": "execute_result"
    }
   ],
   "source": [
    "test_data.shape"
   ]
  },
  {
   "cell_type": "code",
   "execution_count": 68,
   "metadata": {},
   "outputs": [],
   "source": [
    "# for training set, extract dataset for each part\n",
    "open_train = train_data[:, 0]\n",
    "high_train = train_data[:, 1]\n",
    "low_train = train_data[:, 2]\n",
    "close_train = train_data[:, 3]\n",
    "volume_train = train_data[:, 4]\n",
    "mc_train = train_data[:, 5]\n",
    "\n",
    "open_train = open_train.reshape(open_train.shape[0], 1)\n",
    "high_train = high_train.reshape(high_train.shape[0], 1)\n",
    "low_train = low_train.reshape(low_train.shape[0], 1)\n",
    "close_train = close_train.reshape(close_train.shape[0], 1)\n",
    "volume_train = volume_train.reshape(volume_train.shape[0], 1)\n",
    "mc_train = mc_train.reshape(mc_train.shape[0], 1)\n",
    "\n",
    "# for testset, extract dataset for each part\n",
    "open_test = test_data[:, 0]\n",
    "high_test = test_data[:, 1]\n",
    "low_test = test_data[:, 2]\n",
    "close_test = test_data[:, 3]\n",
    "volume_test = test_data[:, 4]\n",
    "mc_test = test_data[:, 5]\n",
    "\n",
    "open_test = open_test.reshape(open_test.shape[0], 1)\n",
    "high_test = high_test.reshape(high_test.shape[0], 1)\n",
    "low_test = low_test.reshape(low_test.shape[0], 1)\n",
    "close_test = close_test.reshape(close_test.shape[0], 1)\n",
    "volume_test = volume_test.reshape(volume_test.shape[0], 1)\n",
    "mc_test = mc_test.reshape(mc_test.shape[0], 1)\n"
   ]
  },
  {
   "cell_type": "code",
   "execution_count": 69,
   "metadata": {},
   "outputs": [
    {
     "data": {
      "text/plain": [
       "(176, 1)"
      ]
     },
     "execution_count": 69,
     "metadata": {},
     "output_type": "execute_result"
    }
   ],
   "source": [
    "mc_test.shape"
   ]
  },
  {
   "cell_type": "code",
   "execution_count": 49,
   "metadata": {},
   "outputs": [
    {
     "data": {
      "text/plain": [
       "array([[0.01547747],\n",
       "       [0.01527821],\n",
       "       [0.01749325],\n",
       "       ...,\n",
       "       [0.99712925],\n",
       "       [0.99088266],\n",
       "       [1.        ]])"
      ]
     },
     "execution_count": 49,
     "metadata": {},
     "output_type": "execute_result"
    }
   ],
   "source": [
    "open_train.reshape(open_train.shape[0], 1)"
   ]
  },
  {
   "cell_type": "code",
   "execution_count": null,
   "metadata": {},
   "outputs": [],
   "source": [
    "# define the each training set as a placeholder\n",
    "# input placeholder \n",
    "open_train = tf.placeholder(dtype = tf.float32, name = \"open_train\", shape = open_train.shape)\n",
    "high_train = tf.placeholder(dtype = tf.float32, name = \"high_train\", shape = high_train.shape)\n",
    "low_train = tf.placeholder(dtype = tf.float32, name = \"low_train\", shape = low_train.shape)\n",
    "\n",
    "volume_train = tf.placeholder(dtype = tf.float32, name = \"volume_train\", shape = volume_train.shape)\n",
    "mc_train = tf.placeholder(dtype = tf.float32, name = \"mc_train\", shape = mc_train.shape)\n",
    "\n",
    "# output placeholder\n",
    "close_train = tf.placeholder(dtype = tf.float32, name = \"close_train\", shape = close_train.shape)"
   ]
  },
  {
   "cell_type": "code",
   "execution_count": null,
   "metadata": {},
   "outputs": [],
   "source": [
    "# model archtecture parameters\n"
   ]
  }
 ],
 "metadata": {
  "kernelspec": {
   "display_name": "Python 3",
   "language": "python",
   "name": "python3"
  },
  "language_info": {
   "codemirror_mode": {
    "name": "ipython",
    "version": 3
   },
   "file_extension": ".py",
   "mimetype": "text/x-python",
   "name": "python",
   "nbconvert_exporter": "python",
   "pygments_lexer": "ipython3",
   "version": "3.6.4"
  }
 },
 "nbformat": 4,
 "nbformat_minor": 2
}
